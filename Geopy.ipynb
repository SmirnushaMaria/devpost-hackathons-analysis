{
  "nbformat": 4,
  "nbformat_minor": 0,
  "metadata": {
    "colab": {
      "name": "Geopy.ipynb",
      "provenance": [],
      "collapsed_sections": []
    },
    "kernelspec": {
      "display_name": "Python 3",
      "name": "python3"
    },
    "language_info": {
      "name": "python"
    }
  },
  "cells": [
    {
      "cell_type": "code",
      "metadata": {
        "colab": {
          "base_uri": "https://localhost:8080/"
        },
        "id": "PW8IOzhTPB6E",
        "outputId": "91a7a4a6-3943-42b4-e78a-373c5e79545c"
      },
      "source": [
        "#mounting google drive in order to read and save data to it\n",
        "from google.colab import drive\n",
        "drive.mount('/content/drive')"
      ],
      "execution_count": null,
      "outputs": [
        {
          "output_type": "stream",
          "name": "stdout",
          "text": [
            "Drive already mounted at /content/drive; to attempt to forcibly remount, call drive.mount(\"/content/drive\", force_remount=True).\n"
          ]
        }
      ]
    },
    {
      "cell_type": "code",
      "metadata": {
        "id": "dy0x2joA7Nbi"
      },
      "source": [
        "#importing\n",
        "import pandas as pd\n",
        "import numpy as np\n",
        "import requests\n",
        "import json\n",
        "import time\n",
        "import matplotlib.pyplot as plt\n",
        "\n",
        "from bs4 import BeautifulSoup\n",
        "from tqdm import tqdm\n",
        "from time import sleep\n",
        "from datetime import date\n",
        "from google.colab import files"
      ],
      "execution_count": null,
      "outputs": []
    },
    {
      "cell_type": "code",
      "metadata": {
        "id": "kH_EXFMBhztb"
      },
      "source": [
        "#read the data from drive csv\n",
        "hacks = pd.read_csv(r'/content/drive/MyDrive/Thesis/data/Data_all/hacks_data.csv') #this are all hackathons that were published in Devpost\n",
        "projects = pd.read_csv(r'/content/drive/MyDrive/Thesis/data/Data_all/all_projects_data.csv') #this are all projects that were published in Devpost\n",
        "participants = pd.read_csv(r'/content/drive/MyDrive/Thesis/data/Data_all/participants.csv')"
      ],
      "execution_count": null,
      "outputs": []
    },
    {
      "cell_type": "code",
      "metadata": {
        "id": "_6-6sB0IOBgt"
      },
      "source": [
        "hacks = hacks.rename(columns={\"submission_gallery_url\": \"submission_gal_url\"}, errors=\"raise\") #we rename one column here for an easier transformation in the future\n",
        "hacks.submission_gal_url = hacks.submission_gal_url.astype(str) #this step was needed to be able to merge datasets (was not working without it)\n",
        "projects.submission_gal_url = projects.submission_gal_url.astype(str)\n",
        "hacks = hacks[~hacks['submission_gal_url'].isnull()] #we interested only in hacks for which there is a submission galery (it means that at least one project was submitted)\n"
      ],
      "execution_count": null,
      "outputs": []
    },
    {
      "cell_type": "code",
      "metadata": {
        "id": "nfFEyiEPNup_"
      },
      "source": [
        "data = projects.merge(hacks, on='submission_gal_url', how='left') #we join projects with hacks to get a more complete picture"
      ],
      "execution_count": null,
      "outputs": []
    },
    {
      "cell_type": "code",
      "metadata": {
        "colab": {
          "base_uri": "https://localhost:8080/"
        },
        "id": "Hipgwqf0RI80",
        "outputId": "02018e5d-88d9-4bda-bf9b-c3f09a286df2"
      },
      "source": [
        "test = data[['build_with', 'submission_gal_url', 'Location']]\n",
        "test.loc[test['Location'] != 'Online', 'Location'] = 'Offline' \n",
        "\n",
        "N_top = 20"
      ],
      "execution_count": null,
      "outputs": [
        {
          "output_type": "stream",
          "name": "stderr",
          "text": [
            "/usr/local/lib/python3.7/dist-packages/pandas/core/indexing.py:670: SettingWithCopyWarning: \n",
            "A value is trying to be set on a copy of a slice from a DataFrame\n",
            "\n",
            "See the caveats in the documentation: https://pandas.pydata.org/pandas-docs/stable/user_guide/indexing.html#returning-a-view-versus-a-copy\n",
            "  iloc._setitem_with_indexer(indexer, value)\n",
            "/usr/local/lib/python3.7/dist-packages/ipykernel_launcher.py:2: SettingWithCopyWarning: \n",
            "A value is trying to be set on a copy of a slice from a DataFrame\n",
            "\n",
            "See the caveats in the documentation: https://pandas.pydata.org/pandas-docs/stable/user_guide/indexing.html#returning-a-view-versus-a-copy\n",
            "  \n"
          ]
        }
      ]
    },
    {
      "cell_type": "code",
      "metadata": {
        "id": "qZ3C-Xq7W_1i"
      },
      "source": [
        "test_before = test[test['Location'] == 'Online']\n",
        "build_with_flatten_before = test_before['build_with'].str.split(', ', expand=True).stack()\n",
        "test_before = pd.DataFrame({'build_with': build_with_flatten_before, 'count': range(len(build_with_flatten_before))})\n",
        "test_before.reset_index(drop=True, inplace=True)\n",
        "grouped_skills_before = test_before.groupby('build_with').count().sort_values('count', ascending=False)\n",
        "grouped_skills_before_sum = grouped_skills_before.head(N_top)['count'].sum() # took only N_top!!!\n",
        "grouped_skills_before_pct = grouped_skills_before.head(N_top)['count'] / grouped_skills_before_sum * 100\n",
        "grouped_skills_before = grouped_skills_before.iloc[:N_top, :]\n",
        "grouped_skills_before['pct'] = grouped_skills_before_pct.round(2)"
      ],
      "execution_count": null,
      "outputs": []
    },
    {
      "cell_type": "code",
      "metadata": {
        "id": "W_J9wQyPXNKH"
      },
      "source": [
        "test_after = test[test['Location'] == 'Offline']\n",
        "build_with_flatten_after = test_after['build_with'].str.split(', ', expand=True).stack()\n",
        "test_after = pd.DataFrame({'build_with': build_with_flatten_after, 'count': range(len(build_with_flatten_after))})\n",
        "test_after.reset_index(drop=True, inplace=True)\n",
        "grouped_skills_after = test_after.groupby('build_with').count().sort_values('count', ascending=False)\n",
        "grouped_skills_after_sum = grouped_skills_after.head(N_top)['count'].sum() # took only N_top!!!\n",
        "grouped_skills_after_pct = grouped_skills_after.head(N_top)['count'] / grouped_skills_after_sum * 100\n",
        "grouped_skills_after = grouped_skills_after.iloc[:N_top, :]\n",
        "grouped_skills_after['pct'] = grouped_skills_after_pct.round(2)"
      ],
      "execution_count": null,
      "outputs": []
    },
    {
      "cell_type": "code",
      "metadata": {
        "colab": {
          "base_uri": "https://localhost:8080/",
          "height": 652
        },
        "id": "34VaMWYOTsvB",
        "outputId": "a563e6b0-3625-4db8-b945-aaffdb53afe0"
      },
      "source": [
        "fig, axs = plt.subplots(1, 2, figsize=(20, 10))\n",
        "\n",
        "axs[0].set_title(\"Online\")\n",
        "axs[0].bar(grouped_skills_before.index.tolist(), grouped_skills_before['pct'])\n",
        "\n",
        "axs[1].set_title(\"Offline\")\n",
        "axs[1].bar(grouped_skills_after.index.tolist(), grouped_skills_after['pct'])\n",
        "\n",
        "fig.autofmt_xdate(rotation=90)"
      ],
      "execution_count": null,
      "outputs": [
        {
          "output_type": "display_data",
          "data": {
            "image/png": "[encoded data removed]",
            "text/plain": [
              "<Figure size 1440x720 with 2 Axes>"
            ]
          },
          "metadata": {
            "needs_background": "light"
          }
        }
      ]
    },
    {
      "cell_type": "code",
      "metadata": {
        "colab": {
          "base_uri": "https://localhost:8080/"
        },
        "id": "jQ1Pgr9xV3T-",
        "outputId": "4079c051-33c0-4d18-b33b-e1ffabb6811e"
      },
      "source": [
        "test_2 = hacks[['themes', 'submission_gal_url', 'Location']]\n",
        "test_2.loc[test_2['Location'] != 'Online', 'Location'] = 'Offline' \n",
        "\n",
        "N_top = 20"
      ],
      "execution_count": null,
      "outputs": [
        {
          "output_type": "stream",
          "name": "stderr",
          "text": [
            "/usr/local/lib/python3.7/dist-packages/pandas/core/indexing.py:670: SettingWithCopyWarning: \n",
            "A value is trying to be set on a copy of a slice from a DataFrame\n",
            "\n",
            "See the caveats in the documentation: https://pandas.pydata.org/pandas-docs/stable/user_guide/indexing.html#returning-a-view-versus-a-copy\n",
            "  iloc._setitem_with_indexer(indexer, value)\n",
            "/usr/local/lib/python3.7/dist-packages/ipykernel_launcher.py:2: SettingWithCopyWarning: \n",
            "A value is trying to be set on a copy of a slice from a DataFrame\n",
            "\n",
            "See the caveats in the documentation: https://pandas.pydata.org/pandas-docs/stable/user_guide/indexing.html#returning-a-view-versus-a-copy\n",
            "  \n"
          ]
        }
      ]
    },
    {
      "cell_type": "code",
      "metadata": {
        "id": "Y3BACX5ULDfS"
      },
      "source": [
        "test_2_before = test_2[test_2['Location'] == 'Online']\n",
        "themes_flatten_before = test_2_before['themes'].str.split(', ', expand=True).stack()\n",
        "test_2_before = pd.DataFrame({'themes': themes_flatten_before, 'count': range(len(themes_flatten_before))})\n",
        "test_2_before.reset_index(drop=True, inplace=True)\n",
        "grouped_themes_before = test_2_before.groupby('themes').count().sort_values('count', ascending=False)\n",
        "grouped_themes_before_sum = grouped_themes_before.head(N_top)['count'].sum() # took only N_top!!!\n",
        "grouped_themes_before_pct = grouped_themes_before.head(N_top)['count'] / grouped_themes_before_sum * 100\n",
        "grouped_themes_before = grouped_themes_before.iloc[:N_top, :]\n",
        "grouped_themes_before['pct'] = grouped_themes_before_pct.round(2)"
      ],
      "execution_count": null,
      "outputs": []
    },
    {
      "cell_type": "code",
      "metadata": {
        "id": "8hbxvkyb5zl1"
      },
      "source": [
        "test_2_after = test_2[test_2['Location'] == 'Offline']\n",
        "themes_flatten_after = test_2_after['themes'].str.split(', ', expand=True).stack()\n",
        "test_2_after = pd.DataFrame({'themes': themes_flatten_after, 'count': range(len(themes_flatten_after))})\n",
        "test_2_after.reset_index(drop=True, inplace=True)\n",
        "grouped_themes_after = test_2_after.groupby('themes').count().sort_values('count', ascending=False)\n",
        "grouped_themes_after_sum = grouped_themes_after.head(N_top)['count'].sum() # took only N_top!!!\n",
        "grouped_themes_after_pct = grouped_themes_after.head(N_top)['count'] / grouped_themes_after_sum * 100\n",
        "grouped_themes_after = grouped_themes_after.iloc[:N_top, :]\n",
        "grouped_themes_after['pct'] = grouped_themes_after_pct.round(2)"
      ],
      "execution_count": null,
      "outputs": []
    },
    {
      "cell_type": "code",
      "metadata": {
        "colab": {
          "base_uri": "https://localhost:8080/",
          "height": 645
        },
        "id": "ZuAHz2Bj8Ueh",
        "outputId": "0d27491e-6618-4845-ff4b-0bc795b42a5c"
      },
      "source": [
        "fig, axs = plt.subplots(1, 2, figsize=(20, 10))\n",
        "\n",
        "axs[0].set_title(\"Before corona\")\n",
        "axs[0].bar(grouped_themes_before.index.tolist(), grouped_themes_before['pct'])\n",
        "\n",
        "axs[1].set_title(\"After corona\")\n",
        "axs[1].bar(grouped_themes_after.index.tolist(), grouped_themes_after['pct'])\n",
        "\n",
        "fig.autofmt_xdate(rotation=90)"
      ],
      "execution_count": null,
      "outputs": [
        {
          "output_type": "display_data",
          "data": {
            "image/png": "[encoded data removed]",
            "text/plain": [
              "<Figure size 1440x720 with 2 Axes>"
            ]
          },
          "metadata": {
            "needs_background": "light"
          }
        }
      ]
    },
    {
      "cell_type": "code",
      "metadata": {
        "colab": {
          "base_uri": "https://localhost:8080/"
        },
        "id": "EeGrVKJC8ev3",
        "outputId": "c5fd67a3-2456-403b-9acd-9bfa23386d2c"
      },
      "source": [
        "test_3 = hacks[['Criteria', 'submission_gal_url', 'Location']]\n",
        "test_3.loc[test_2['Location'] != 'Online', 'Location'] = 'Offline' \n",
        "\n",
        "N_top = 20"
      ],
      "execution_count": null,
      "outputs": [
        {
          "output_type": "stream",
          "name": "stderr",
          "text": [
            "/usr/local/lib/python3.7/dist-packages/pandas/core/indexing.py:670: SettingWithCopyWarning: \n",
            "A value is trying to be set on a copy of a slice from a DataFrame\n",
            "\n",
            "See the caveats in the documentation: https://pandas.pydata.org/pandas-docs/stable/user_guide/indexing.html#returning-a-view-versus-a-copy\n",
            "  iloc._setitem_with_indexer(indexer, value)\n",
            "/usr/local/lib/python3.7/dist-packages/ipykernel_launcher.py:2: SettingWithCopyWarning: \n",
            "A value is trying to be set on a copy of a slice from a DataFrame\n",
            "\n",
            "See the caveats in the documentation: https://pandas.pydata.org/pandas-docs/stable/user_guide/indexing.html#returning-a-view-versus-a-copy\n",
            "  \n"
          ]
        }
      ]
    },
    {
      "cell_type": "code",
      "metadata": {
        "id": "hlFf_rBvAwj1"
      },
      "source": [
        "test_3_before = test_3[test_3['Location'] == 'Online']\n",
        "criteria_flatten_before = test_3_before['Criteria'].str.split(', ', expand=True).stack()\n",
        "test_3_before = pd.DataFrame({'Criteria': criteria_flatten_before, 'count': range(len(criteria_flatten_before))})\n",
        "test_3_before.reset_index(drop=True, inplace=True)\n",
        "grouped_criteria_before = test_3_before.groupby('Criteria').count().sort_values('count', ascending=False)\n",
        "grouped_criteria_before_sum = grouped_criteria_before.head(N_top)['count'].sum() # took only N_top!!!\n",
        "grouped_criteria_before_pct = grouped_criteria_before.head(N_top)['count'] / grouped_criteria_before_sum * 100\n",
        "grouped_criteria_before = grouped_criteria_before.iloc[:N_top, :]\n",
        "grouped_criteria_before['pct'] = grouped_criteria_before_pct.round(2)"
      ],
      "execution_count": null,
      "outputs": []
    },
    {
      "cell_type": "code",
      "metadata": {
        "id": "xR7VujHBCJJG"
      },
      "source": [
        "test_3_after = test_3[test_3['Location'] == 'Offline']\n",
        "criteria_flatten_after = test_3_after['Criteria'].str.split(', ', expand=True).stack()\n",
        "test_3_after = pd.DataFrame({'Criteria': criteria_flatten_after, 'count': range(len(criteria_flatten_after))})\n",
        "test_3_after.reset_index(drop=True, inplace=True)\n",
        "grouped_criteria_after = test_3_after.groupby('Criteria').count().sort_values('count', ascending=False)\n",
        "grouped_criteria_after_sum = grouped_criteria_after.head(N_top)['count'].sum() # took only N_top!!!\n",
        "grouped_criteria_after_pct = grouped_criteria_after.head(N_top)['count'] / grouped_criteria_after_sum * 100\n",
        "grouped_criteria_after = grouped_criteria_after.iloc[:N_top, :]\n",
        "grouped_criteria_after['pct'] = grouped_criteria_after_pct.round(2)"
      ],
      "execution_count": null,
      "outputs": []
    },
    {
      "cell_type": "code",
      "metadata": {
        "colab": {
          "base_uri": "https://localhost:8080/",
          "height": 679
        },
        "id": "r6h_tP06CmSa",
        "outputId": "d2a1c005-af8c-4060-f1ea-18d5d548910f"
      },
      "source": [
        "fig, axs = plt.subplots(1, 2, figsize=(20, 10))\n",
        "\n",
        "axs[0].set_title(\"Before corona\")\n",
        "axs[0].bar(grouped_criteria_before.index.tolist(), grouped_criteria_before['pct'])\n",
        "\n",
        "axs[1].set_title(\"After corona\")\n",
        "axs[1].bar(grouped_criteria_after.index.tolist(), grouped_criteria_after['pct'])\n",
        "\n",
        "fig.autofmt_xdate(rotation=90)"
      ],
      "execution_count": null,
      "outputs": [
        {
          "output_type": "display_data",
          "data": {
            "image/png": "[encoded data removed]",
            "text/plain": [
              "<Figure size 1440x720 with 2 Axes>"
            ]
          },
          "metadata": {
            "needs_background": "light"
          }
        }
      ]
    },
    {
      "cell_type": "markdown",
      "source": [
        ""
      ],
      "metadata": {
        "id": "q-au6XFmhYp9"
      }
    },
    {
      "cell_type": "markdown",
      "source": [
        "## Geopy data acquisition\n",
        "1. Get all projects' participants\n",
        "2. Get location that was stated by participants \n",
        "3. Using geopy get latitude and longtitude of participants\n",
        "4. Using geopy and latitude and longtitude from previous step get standartised country name in English (this is needed to transform all namings in other languages, for example O`zbekiston to Uzbekistan, in order to aggregate data in the future and get accurate results)"
      ],
      "metadata": {
        "id": "u_pXjQhkhY2h"
      }
    },
    {
      "cell_type": "markdown",
      "source": [
        "## 1. Get all projects participoants"
      ],
      "metadata": {
        "id": "t1LynykNk1eM"
      }
    },
    {
      "cell_type": "code",
      "metadata": {
        "id": "HH_q-nGbjriM"
      },
      "source": [
        "participants_flatten = data['participants'].str.split(', ', expand=True).stack() #here we get all participants in projects and split it using comma separator (as far as initially they were combined in 1)\n",
        "participants_flatten = pd.DataFrame(participants_flatten, columns=['0']) \n",
        "country_data = participants_flatten.merge(participants, on='0', how='left') #we merge it with information about this participants, in particular to get country"
      ],
      "execution_count": null,
      "outputs": []
    },
    {
      "cell_type": "markdown",
      "source": [
        "## 1. Get locations that was stated by participants"
      ],
      "metadata": {
        "id": "fxfJTG88k_uf"
      }
    },
    {
      "cell_type": "code",
      "metadata": {
        "colab": {
          "base_uri": "https://localhost:8080/"
        },
        "id": "UJzNZSzxwtga",
        "outputId": "f1883c88-5771-4da9-f58a-a662d2d0e455"
      },
      "source": [
        "all_countries = country_data[['country']] #creating DataFrame with all possible countries\n",
        "all_countries['country'].replace({'J & K': 'India', \"Ari'el\": 'Israel'}, inplace=True) #we made some renaming for locations that can't be found in OpenStreetMap\n",
        "all_countries = all_countries.drop_duplicates() #make df unique\n",
        "all_countries = all_countries[~all_countries['country'].isnull()] #removing null values\n",
        "all_countries = all_countries.loc[all_countries['country']!='Nan'] #removing Nan values\n",
        "all_countries.reset_index(inplace=True)"
      ],
      "execution_count": null,
      "outputs": [
        {
          "output_type": "stream",
          "name": "stderr",
          "text": [
            "/usr/local/lib/python3.7/dist-packages/pandas/core/series.py:4582: SettingWithCopyWarning: \n",
            "A value is trying to be set on a copy of a slice from a DataFrame\n",
            "\n",
            "See the caveats in the documentation: https://pandas.pydata.org/pandas-docs/stable/user_guide/indexing.html#returning-a-view-versus-a-copy\n",
            "  method=method,\n"
          ]
        }
      ]
    },
    {
      "cell_type": "markdown",
      "source": [
        "## 3. Using geopy get latitude and lontitude od participants' locations "
      ],
      "metadata": {
        "id": "irZYd8s5nIMA"
      }
    },
    {
      "cell_type": "markdown",
      "source": [
        "Here we install required packages and import additional libraries"
      ],
      "metadata": {
        "id": "0Ay9l_gyke17"
      }
    },
    {
      "cell_type": "code",
      "metadata": {
        "id": "PjCZJd880XDS"
      },
      "source": [
        "pip install geopy"
      ],
      "execution_count": null,
      "outputs": []
    },
    {
      "cell_type": "code",
      "metadata": {
        "colab": {
          "base_uri": "https://localhost:8080/"
        },
        "id": "BekGF_o2x8id",
        "outputId": "d92b2f60-20d7-4ca0-a884-66f712af9114"
      },
      "source": [
        "import geopy\n",
        "\n",
        "from geopy.geocoders import Nominatim\n",
        "nom = Nominatim(timeout=10)"
      ],
      "execution_count": null,
      "outputs": [
        {
          "output_type": "stream",
          "name": "stderr",
          "text": [
            "/usr/local/lib/python3.7/dist-packages/geopy/geocoders/osm.py:143: UserWarning: Using Nominatim with the default \"geopy/1.17.0\" `user_agent` is strongly discouraged, as it violates Nominatim's ToS https://operations.osmfoundation.org/policies/nominatim/ and may possibly cause 403 and 429 HTTP errors. Please specify a custom `user_agent` with `Nominatim(user_agent=\"my-application\")` or by overriding the default `user_agent`: `geopy.geocoders.options.default_user_agent = \"my-application\"`. In geopy 2.0 this will become an exception.\n",
            "  UserWarning\n"
          ]
        }
      ]
    },
    {
      "cell_type": "code",
      "metadata": {
        "id": "b_vPU5-HyQK6"
      },
      "source": [
        "coords = []\n",
        "for ind, row in all_countries.iterrows():\n",
        "  try:\n",
        "    coord = nom.geocode(row['country'])\n",
        "    coords.append((coord.latitude, coord.longitude))\n",
        "  except:\n",
        "    print(f\"Timeout error in row {ind}\")\n",
        "    coords.append((None, None))"
      ],
      "execution_count": null,
      "outputs": []
    },
    {
      "cell_type": "code",
      "metadata": {
        "id": "WVCFXXyl6Rkg"
      },
      "source": [
        "all_countries['lat'] = [c[0] for c in coords]\n",
        "all_countries['lon'] = [c[1] for c in coords]"
      ],
      "execution_count": null,
      "outputs": []
    },
    {
      "cell_type": "markdown",
      "source": [
        "After this step not all latitude and longtitude were found, so we created a list of empty locations and get only first imput (in majority of cases it's city or state). For example if the location was Yaroslavl, Yaroslavskays oblast, Russia and full location was not found in Open Street Map, we will try to find first input of this location which is Yaroslavl. "
      ],
      "metadata": {
        "id": "JT1F4UAVnW3r"
      }
    },
    {
      "cell_type": "code",
      "metadata": {
        "id": "BDdhvMz29-hS"
      },
      "source": [
        "all_countries.to_csv(r'/content/drive/MyDrive/Thesis/data/Data_all/Locations_iterations/1_iter_full_location.csv', index=False)\n",
        "empty_countries.to_csv(r'/content/drive/MyDrive/Thesis/data/Data_all/Locations_iterations/2_iter_shorten_location.csv', index=False)\n",
        "empty_countries_2.to_csv(r'/content/drive/MyDrive/Thesis/data/Data_all/Locations_iterations/3_iter_shorten_location_2.csv', index=False)\n",
        "empty_countries_3.to_csv(r'/content/drive/MyDrive/Thesis/data/Data_all/Locations_iterations/4_iter_country_level.csv', index=False)"
      ],
      "execution_count": null,
      "outputs": []
    },
    {
      "cell_type": "code",
      "metadata": {
        "colab": {
          "base_uri": "https://localhost:8080/"
        },
        "id": "sbiR29-Dngyh",
        "outputId": "8586ed43-b17e-4a32-ae90-ee6bfbed0c41"
      },
      "source": [
        "empty_countries = all_countries[all_countries['lat'].isnull()] #we create a list of empty locations\n",
        "empty_countries['shorten_location'] = empty_countries['country'].str.split(',').str[0].str.strip() #and get furst entry in location string"
      ],
      "execution_count": null,
      "outputs": [
        {
          "output_type": "stream",
          "name": "stderr",
          "text": [
            "/usr/local/lib/python3.7/dist-packages/ipykernel_launcher.py:2: SettingWithCopyWarning: \n",
            "A value is trying to be set on a copy of a slice from a DataFrame.\n",
            "Try using .loc[row_indexer,col_indexer] = value instead\n",
            "\n",
            "See the caveats in the documentation: https://pandas.pydata.org/pandas-docs/stable/user_guide/indexing.html#returning-a-view-versus-a-copy\n",
            "  \n"
          ]
        }
      ]
    },
    {
      "cell_type": "markdown",
      "source": [
        "Here we run the same code as before, but the input is not the full location but only first entry"
      ],
      "metadata": {
        "id": "BrKK6DPlo0sh"
      }
    },
    {
      "cell_type": "code",
      "metadata": {
        "id": "f_Fm8cStocfu"
      },
      "source": [
        "coords_2 = []\n",
        "for ind, row in empty_countries.iterrows():\n",
        "  try:\n",
        "    coord_2 = nom.geocode(row['shorten_location'])\n",
        "    coords_2.append((coord_2.latitude, coord_2.longitude))\n",
        "  except:\n",
        "    print(f\"Timeout error in row {ind}\")\n",
        "    coords_2.append((None, None))"
      ],
      "execution_count": null,
      "outputs": []
    },
    {
      "cell_type": "code",
      "metadata": {
        "colab": {
          "base_uri": "https://localhost:8080/"
        },
        "id": "Xjrh9SjKrx8d",
        "outputId": "0bbd78e9-b4d8-41a7-e8e5-e788be5630bf"
      },
      "source": [
        "empty_countries['lat'] = [c[0] for c in coords_2]\n",
        "empty_countries['lon'] = [c[1] for c in coords_2]"
      ],
      "execution_count": null,
      "outputs": [
        {
          "output_type": "stream",
          "name": "stderr",
          "text": [
            "/usr/local/lib/python3.7/dist-packages/ipykernel_launcher.py:1: SettingWithCopyWarning: \n",
            "A value is trying to be set on a copy of a slice from a DataFrame.\n",
            "Try using .loc[row_indexer,col_indexer] = value instead\n",
            "\n",
            "See the caveats in the documentation: https://pandas.pydata.org/pandas-docs/stable/user_guide/indexing.html#returning-a-view-versus-a-copy\n",
            "  \"\"\"Entry point for launching an IPython kernel.\n",
            "/usr/local/lib/python3.7/dist-packages/ipykernel_launcher.py:2: SettingWithCopyWarning: \n",
            "A value is trying to be set on a copy of a slice from a DataFrame.\n",
            "Try using .loc[row_indexer,col_indexer] = value instead\n",
            "\n",
            "See the caveats in the documentation: https://pandas.pydata.org/pandas-docs/stable/user_guide/indexing.html#returning-a-view-versus-a-copy\n",
            "  \n"
          ]
        }
      ]
    },
    {
      "cell_type": "markdown",
      "source": [
        "However, after this step we still have had some empty locations, so we did all the same but using secont entry in location. For example, if the full location was Yaroslavl, Yaroslavskays oblast, Russia and full location was not found in Open Street Map, first entry was also not found, we will try to find second input of this location which is Yaroslavskays oblast. This is not an ideal solution (for example, when participant stated that his location is \"Tilonia, RJ, India\" which is in India, if Open Street Map didn't found full location and city, we will run it on RJ and it would be latitude and longtitude of Rio de Janeiro - this cases are rare, but they can happen), but it works in majority of cases."
      ],
      "metadata": {
        "id": "K8UTSqDcp0WL"
      }
    },
    {
      "cell_type": "code",
      "metadata": {
        "colab": {
          "base_uri": "https://localhost:8080/"
        },
        "id": "QYqjgA5CsR_Q",
        "outputId": "ee0d5c2d-3593-4149-c726-7d98fa3c127d"
      },
      "source": [
        "empty_countries_2 = empty_countries[empty_countries['lat'].isnull()]\n",
        "empty_countries_2['shorten_location_2'] = empty_countries_2['country'].str.split(',').str[1].str.strip()"
      ],
      "execution_count": null,
      "outputs": [
        {
          "output_type": "stream",
          "name": "stderr",
          "text": [
            "/usr/local/lib/python3.7/dist-packages/ipykernel_launcher.py:2: SettingWithCopyWarning: \n",
            "A value is trying to be set on a copy of a slice from a DataFrame.\n",
            "Try using .loc[row_indexer,col_indexer] = value instead\n",
            "\n",
            "See the caveats in the documentation: https://pandas.pydata.org/pandas-docs/stable/user_guide/indexing.html#returning-a-view-versus-a-copy\n",
            "  \n"
          ]
        }
      ]
    },
    {
      "cell_type": "code",
      "metadata": {
        "colab": {
          "base_uri": "https://localhost:8080/"
        },
        "id": "ZluVnJh8shL4",
        "outputId": "cd2d778f-1ac4-4d3e-f148-0e1495fa6fff"
      },
      "source": [
        "coords_3 = []\n",
        "for ind, row in empty_countries_2.iterrows():\n",
        "  try:\n",
        "    coord_3 = nom.geocode(row['shorten_location_2'])\n",
        "    coords_3.append((coord_3.latitude, coord_3.longitude))\n",
        "  except:\n",
        "    print(f\"Timeout error in row {ind}\")\n",
        "    coords_3.append((None, None))"
      ],
      "execution_count": null,
      "outputs": [
        {
          "output_type": "stream",
          "name": "stdout",
          "text": [
            "Timeout error in row 4274\n",
            "Timeout error in row 9227\n"
          ]
        }
      ]
    },
    {
      "cell_type": "code",
      "metadata": {
        "colab": {
          "base_uri": "https://localhost:8080/"
        },
        "id": "pCeUMLI1uAYB",
        "outputId": "5ed742b5-f1be-4692-87f6-3c64af9bc084"
      },
      "source": [
        "empty_countries_2['lat'] = [c[0] for c in coords_3]\n",
        "empty_countries_2['lon'] = [c[1] for c in coords_3]"
      ],
      "execution_count": null,
      "outputs": [
        {
          "output_type": "stream",
          "name": "stderr",
          "text": [
            "/usr/local/lib/python3.7/dist-packages/ipykernel_launcher.py:1: SettingWithCopyWarning: \n",
            "A value is trying to be set on a copy of a slice from a DataFrame.\n",
            "Try using .loc[row_indexer,col_indexer] = value instead\n",
            "\n",
            "See the caveats in the documentation: https://pandas.pydata.org/pandas-docs/stable/user_guide/indexing.html#returning-a-view-versus-a-copy\n",
            "  \"\"\"Entry point for launching an IPython kernel.\n",
            "/usr/local/lib/python3.7/dist-packages/ipykernel_launcher.py:2: SettingWithCopyWarning: \n",
            "A value is trying to be set on a copy of a slice from a DataFrame.\n",
            "Try using .loc[row_indexer,col_indexer] = value instead\n",
            "\n",
            "See the caveats in the documentation: https://pandas.pydata.org/pandas-docs/stable/user_guide/indexing.html#returning-a-view-versus-a-copy\n",
            "  \n"
          ]
        }
      ]
    },
    {
      "cell_type": "markdown",
      "source": [
        "After this step we were able to get almost all locations. However, some are still empty and for this we rerun the code on empty locations using the very last entry. In our example it would be Yaroslavl. "
      ],
      "metadata": {
        "id": "a-vaFINJrrkN"
      }
    },
    {
      "cell_type": "code",
      "metadata": {
        "colab": {
          "base_uri": "https://localhost:8080/"
        },
        "id": "_e4AzTwUuN56",
        "outputId": "02cde4bf-71fa-4f8b-bfa3-a37be649ff45"
      },
      "source": [
        "empty_countries_3 = empty_countries_2[empty_countries_2['lat'].isnull()]\n",
        "empty_countries_3['shorten_location_3'] = empty_countries_3['country'].str.split(',').str[-1].str.strip()"
      ],
      "execution_count": null,
      "outputs": [
        {
          "output_type": "stream",
          "name": "stderr",
          "text": [
            "/usr/local/lib/python3.7/dist-packages/ipykernel_launcher.py:2: SettingWithCopyWarning: \n",
            "A value is trying to be set on a copy of a slice from a DataFrame.\n",
            "Try using .loc[row_indexer,col_indexer] = value instead\n",
            "\n",
            "See the caveats in the documentation: https://pandas.pydata.org/pandas-docs/stable/user_guide/indexing.html#returning-a-view-versus-a-copy\n",
            "  \n"
          ]
        }
      ]
    },
    {
      "cell_type": "code",
      "metadata": {
        "id": "7vFzUAqmulSv"
      },
      "source": [
        "coords_4 = []\n",
        "for ind, row in empty_countries_3.iterrows():\n",
        "  try:\n",
        "    coord_4 = nom.geocode(row['shorten_location_3'])\n",
        "    coords_4.append((coord_4.latitude, coord_4.longitude))\n",
        "  except:\n",
        "    print(f\"Timeout error in row {ind}\")\n",
        "    coords_4.append((None, None))"
      ],
      "execution_count": null,
      "outputs": []
    },
    {
      "cell_type": "code",
      "metadata": {
        "colab": {
          "base_uri": "https://localhost:8080/"
        },
        "id": "Apj9ZsSQu5Qo",
        "outputId": "b01a99a0-3c55-4c72-e1bc-2e31fd1941a5"
      },
      "source": [
        "empty_countries_3['lat'] = [c[0] for c in coords_4]\n",
        "empty_countries_3['lon'] = [c[1] for c in coords_4]"
      ],
      "execution_count": null,
      "outputs": [
        {
          "output_type": "stream",
          "name": "stderr",
          "text": [
            "/usr/local/lib/python3.7/dist-packages/ipykernel_launcher.py:1: SettingWithCopyWarning: \n",
            "A value is trying to be set on a copy of a slice from a DataFrame.\n",
            "Try using .loc[row_indexer,col_indexer] = value instead\n",
            "\n",
            "See the caveats in the documentation: https://pandas.pydata.org/pandas-docs/stable/user_guide/indexing.html#returning-a-view-versus-a-copy\n",
            "  \"\"\"Entry point for launching an IPython kernel.\n",
            "/usr/local/lib/python3.7/dist-packages/ipykernel_launcher.py:2: SettingWithCopyWarning: \n",
            "A value is trying to be set on a copy of a slice from a DataFrame.\n",
            "Try using .loc[row_indexer,col_indexer] = value instead\n",
            "\n",
            "See the caveats in the documentation: https://pandas.pydata.org/pandas-docs/stable/user_guide/indexing.html#returning-a-view-versus-a-copy\n",
            "  \n"
          ]
        }
      ]
    },
    {
      "cell_type": "code",
      "metadata": {
        "id": "hZSTTXdJv6xJ"
      },
      "source": [
        "#now we will delete all empty values and concat 4 tables into 1, after which we will save it to csv \n",
        "all_countries = all_countries.dropna()\n",
        "empty_countries = empty_countries.dropna()\n",
        "empty_countries_2 = empty_countries_2.dropna()\n",
        "empty_countries_3 = empty_countries_3.dropna()\n",
        "all = pd.concat([all_countries, empty_countries, empty_countries_2, empty_countries_3], ignore_index=True)\n",
        "all.to_csv(r'/content/drive/MyDrive/Thesis/data/Data_all/all_locations_cleaned.csv', index=False)"
      ],
      "execution_count": null,
      "outputs": []
    }
  ]
}