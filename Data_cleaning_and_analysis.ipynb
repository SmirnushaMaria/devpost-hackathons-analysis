{
  "cells": [
    {
      "cell_type": "code",
      "execution_count": null,
      "metadata": {
        "id": "-H9XFs3jciHW",
        "colab": {
          "base_uri": "https://localhost:8080/"
        },
        "outputId": "bdca69fc-4fa2-4763-8a4f-24b36ba6d43f"
      },
      "outputs": [
        {
          "output_type": "stream",
          "name": "stdout",
          "text": [
            "Mounted at /content/drive\n"
          ]
        }
      ],
      "source": [
        "from google.colab import drive\n",
        "drive.mount('/content/drive')"
      ]
    },
    {
      "cell_type": "markdown",
      "metadata": {
        "id": "tUZK7LJieJXj"
      },
      "source": [
        "## 1. Installing packages and libraries"
      ]
    },
    {
      "cell_type": "code",
      "execution_count": null,
      "metadata": {
        "colab": {
          "base_uri": "https://localhost:8080/"
        },
        "id": "8o96vqu0yEHo",
        "outputId": "61f89273-ecd8-4fb8-83c3-5b5160c183f6"
      },
      "outputs": [
        {
          "output_type": "stream",
          "name": "stdout",
          "text": [
            "Requirement already satisfied: scikit-learn in /usr/local/lib/python3.7/dist-packages (1.0.1)\n",
            "Requirement already satisfied: scipy>=1.1.0 in /usr/local/lib/python3.7/dist-packages (from scikit-learn) (1.4.1)\n",
            "Requirement already satisfied: threadpoolctl>=2.0.0 in /usr/local/lib/python3.7/dist-packages (from scikit-learn) (3.0.0)\n",
            "Requirement already satisfied: numpy>=1.14.6 in /usr/local/lib/python3.7/dist-packages (from scikit-learn) (1.19.5)\n",
            "Requirement already satisfied: joblib>=0.11 in /usr/local/lib/python3.7/dist-packages (from scikit-learn) (1.1.0)\n"
          ]
        }
      ],
      "source": [
        "pip install scikit-learn"
      ]
    },
    {
      "cell_type": "code",
      "execution_count": null,
      "metadata": {
        "colab": {
          "base_uri": "https://localhost:8080/"
        },
        "id": "G8cvnFYD2qO6",
        "outputId": "3dd94e8a-96ca-44fd-9377-6ca3cc5b70dc"
      },
      "outputs": [
        {
          "output_type": "stream",
          "name": "stdout",
          "text": [
            "Collecting timezonefinder\n",
            "  Downloading timezonefinder-5.2.0-py36.py37.py38-none-any.whl (43.0 MB)\n",
            "\u001b[K     |████████████████████████████████| 43.0 MB 1.1 MB/s \n",
            "\u001b[?25hRequirement already satisfied: numpy>=1.16 in /usr/local/lib/python3.7/dist-packages (from timezonefinder) (1.19.5)\n",
            "Installing collected packages: timezonefinder\n",
            "Successfully installed timezonefinder-5.2.0\n"
          ]
        }
      ],
      "source": [
        "pip install timezonefinder"
      ]
    },
    {
      "cell_type": "code",
      "execution_count": null,
      "metadata": {
        "colab": {
          "base_uri": "https://localhost:8080/"
        },
        "id": "0x_vvhGAcmqk",
        "outputId": "94bbf6a7-6265-4df2-f45a-9c89d31ee383"
      },
      "outputs": [
        {
          "output_type": "stream",
          "name": "stderr",
          "text": [
            "/usr/local/lib/python3.7/dist-packages/geopy/geocoders/osm.py:143: UserWarning: Using Nominatim with the default \"geopy/1.17.0\" `user_agent` is strongly discouraged, as it violates Nominatim's ToS https://operations.osmfoundation.org/policies/nominatim/ and may possibly cause 403 and 429 HTTP errors. Please specify a custom `user_agent` with `Nominatim(user_agent=\"my-application\")` or by overriding the default `user_agent`: `geopy.geocoders.options.default_user_agent = \"my-application\"`. In geopy 2.0 this will become an exception.\n",
            "  UserWarning\n"
          ]
        }
      ],
      "source": [
        "import pandas as pd\n",
        "import numpy as np\n",
        "import requests\n",
        "import json\n",
        "import time\n",
        "import matplotlib.pyplot as plt\n",
        "import sklearn\n",
        "import sklearn.neighbors\n",
        "\n",
        "from bs4 import BeautifulSoup\n",
        "from tqdm import tqdm\n",
        "from time import sleep\n",
        "from datetime import date, datetime\n",
        "from google.colab import files\n",
        "\n",
        "from geopy.geocoders import Nominatim\n",
        "nom = Nominatim()\n",
        "\n",
        "from timezonefinder import TimezoneFinder\n",
        "tf = TimezoneFinder()"
      ]
    },
    {
      "cell_type": "markdown",
      "metadata": {
        "id": "p9NvbJ7neSyZ"
      },
      "source": [
        "## 2. Importing and cleaning dataset"
      ]
    },
    {
      "cell_type": "code",
      "execution_count": null,
      "metadata": {
        "id": "zgntPe-ac3mt"
      },
      "outputs": [],
      "source": [
        "#importing datasets\n",
        "projects = pd.read_csv(r'/content/drive/MyDrive/Thesis/data/Data_all/all_projects_data.csv')\n",
        "hacks = pd.read_csv(r'/content/drive/MyDrive/Thesis/data/Data_all/hacks_data.csv')\n",
        "participants = pd.read_csv(r'/content/drive/MyDrive/Thesis/data/Data_all/participants.csv')\n",
        "participants_locations = pd.read_csv(r'/content/drive/MyDrive/Thesis/data/Data_all/all_locations_cleaned.csv')\n",
        "\n",
        "participants_locations = participants_locations[['country', 'lat', 'lon']] #from whole table we are interested only in country, lat and lon\n",
        "\n",
        "#deleting duplicates\n",
        "projects.drop_duplicates(inplace=True)\n",
        "hacks.drop_duplicates(inplace=True)\n",
        "participants.drop_duplicates(inplace=True)\n",
        "participants_locations.drop_duplicates(inplace=True)\n",
        "\n",
        "\n",
        "hacks = hacks.rename(columns={\"submission_gallery_url\": \"submission_gal_url\"}, errors=\"raise\") \n",
        "hacks = hacks[~hacks['submission_gal_url'].isnull()]\n",
        "hacks.submission_gal_url = hacks.submission_gal_url.astype(str)\n",
        "projects.submission_gal_url = projects.submission_gal_url.astype(str)"
      ]
    },
    {
      "cell_type": "markdown",
      "metadata": {
        "id": "2fUBhFDfsaTc"
      },
      "source": [
        "Transforming start dates and end dates of hackathon to datetime format to be able to calculate duration"
      ]
    },
    {
      "cell_type": "code",
      "execution_count": null,
      "metadata": {
        "id": "LouhzwyqsQrZ"
      },
      "outputs": [],
      "source": [
        "hacks['start_date_format'] = pd.to_datetime(hacks['start_date_format'])\n",
        "hacks['end_date_format'] = pd.to_datetime(hacks['end_date_format'])\n",
        "hacks['year'] = hacks['start_date_format'].dt.year\n",
        "hacks['hack_duration'] = (hacks['end_date_format'] - hacks['start_date_format']).dt.days"
      ]
    },
    {
      "cell_type": "markdown",
      "metadata": {
        "id": "sYuYt-ppuJMK"
      },
      "source": [
        "Defining location as offline if hackathon was not online"
      ]
    },
    {
      "cell_type": "code",
      "execution_count": null,
      "metadata": {
        "id": "QJ5ryZ2BuH6A"
      },
      "outputs": [],
      "source": [
        "hacks.loc[hacks['Location'] != 'Online', 'Location'] = 'Offline' "
      ]
    },
    {
      "cell_type": "markdown",
      "metadata": {
        "id": "qSdiTAOU1OTy"
      },
      "source": [
        "I think this part should be after hacks data cleaning"
      ]
    },
    {
      "cell_type": "code",
      "execution_count": null,
      "metadata": {
        "id": "Ut8ayDcwd8t8"
      },
      "outputs": [],
      "source": [
        "# data = projects.merge(hacks, on='submission_gal_url', how='left') #create after data cleaning!"
      ]
    },
    {
      "cell_type": "markdown",
      "metadata": {
        "id": "owagH1tSy6Dc"
      },
      "source": [
        "We consider group of people to contain at least 3 people in a team, so all projects that are done by 1 or 2 people are removed"
      ]
    },
    {
      "cell_type": "code",
      "execution_count": null,
      "metadata": {
        "id": "W5s71yImy3dM"
      },
      "outputs": [],
      "source": [
        "projects['participants_num'] = projects['participants_num'].replace({'Nan':np.nan, '': np.nan})\n",
        "col = np.array(projects['participants_num'].fillna(-999), np.int16)\n",
        "projects['participants_num'] = col\n",
        "projects['participants_num'] = projects['participants_num'].replace(-999, np.nan)\n",
        "projects.sort_values('participants_num', ascending=False, inplace=True)\n",
        "\n",
        "projects = projects[projects['participants_num']>=3]"
      ]
    },
    {
      "cell_type": "markdown",
      "metadata": {
        "id": "dksmdVuO0pvQ"
      },
      "source": [
        "As far as we are going to investigate intergroup distance we are also going to remove all participants who has no location specified in their profile"
      ]
    },
    {
      "cell_type": "code",
      "execution_count": null,
      "metadata": {
        "colab": {
          "base_uri": "https://localhost:8080/"
        },
        "id": "gr5SJNCM0qLr",
        "outputId": "ca7df92b-eb5b-44db-865d-f73df6f275f3"
      },
      "outputs": [
        {
          "output_type": "stream",
          "name": "stderr",
          "text": [
            "/usr/local/lib/python3.7/dist-packages/pandas/core/series.py:4582: SettingWithCopyWarning: \n",
            "A value is trying to be set on a copy of a slice from a DataFrame\n",
            "\n",
            "See the caveats in the documentation: https://pandas.pydata.org/pandas-docs/stable/user_guide/indexing.html#returning-a-view-versus-a-copy\n",
            "  method=method,\n"
          ]
        }
      ],
      "source": [
        "# we will delete participants without countries from the dataset\n",
        "participants = participants[participants['country'] != 'Nan']\n",
        "participants['country'].replace({'J & K': 'India', \"Ari'el\": 'Israel'}, inplace=True)"
      ]
    },
    {
      "cell_type": "markdown",
      "metadata": {
        "id": "0bRnzkW38dFv"
      },
      "source": [
        "And we are also going to delete participants who specified only country in their location, becasue it will make it impossible to calculate accurate distance between group members, especially time zone difference"
      ]
    },
    {
      "cell_type": "code",
      "execution_count": null,
      "metadata": {
        "id": "hicMo6Rj8w7Z"
      },
      "outputs": [],
      "source": [
        "#WRITE CODE HERE\n",
        "participants = participants[participants['country'].str.split(',').str.len()>1] #after this step we've got 199360 unique participants out of 280472 which is gooood!\n",
        "participants_locations = participants_locations[participants_locations['country'].str.split(',').str.len()>1] #after this step we've got 11914 unique ;ocations out of 12209 which is gooood!"
      ]
    },
    {
      "cell_type": "code",
      "execution_count": null,
      "metadata": {
        "colab": {
          "base_uri": "https://localhost:8080/",
          "height": 401
        },
        "id": "iTj-XZkdcQQ2",
        "outputId": "a6a1801b-f34a-40af-fa09-299d7659793e"
      },
      "outputs": [
        {
          "output_type": "stream",
          "name": "stderr",
          "text": [
            "/usr/local/lib/python3.7/dist-packages/pandas/core/indexing.py:1763: SettingWithCopyWarning: \n",
            "A value is trying to be set on a copy of a slice from a DataFrame.\n",
            "Try using .loc[row_indexer,col_indexer] = value instead\n",
            "\n",
            "See the caveats in the documentation: https://pandas.pydata.org/pandas-docs/stable/user_guide/indexing.html#returning-a-view-versus-a-copy\n",
            "  isetter(loc, value)\n"
          ]
        },
        {
          "output_type": "execute_result",
          "data": {
            "text/plain": [
              "<matplotlib.axes._subplots.AxesSubplot at 0x7f0fe4e59750>"
            ]
          },
          "metadata": {},
          "execution_count": 12
        },
        {
          "output_type": "display_data",
          "data": {
            "image/png": "[encoded data removed]",
            "text/plain": [
              "<Figure size 432x288 with 1 Axes>"
            ]
          },
          "metadata": {
            "needs_background": "light"
          }
        }
      ],
      "source": [
        "test_3 = hacks[['hack_duration', 'Location', 'start_date_format']]\n",
        "test_3.loc[test_3['Location'] != 'Online', 'Location'] = 'Offline' \n",
        "\n",
        "N_top = 20\n",
        "\n",
        "grouped_criteria = test_3.groupby('Location').mean() #add error bar and standart deviation, min, max\n",
        "grouped_criteria = grouped_criteria.iloc[:N_top, :]\n",
        "\n",
        "grouped_criteria.plot.bar(rot=0)"
      ]
    },
    {
      "cell_type": "code",
      "execution_count": null,
      "metadata": {
        "colab": {
          "base_uri": "https://localhost:8080/",
          "height": 282
        },
        "id": "rYkwMztykUZh",
        "outputId": "89021cbd-e175-4d57-9781-5e8c52ef2ca6"
      },
      "outputs": [
        {
          "output_type": "execute_result",
          "data": {
            "text/plain": [
              "<matplotlib.axes._subplots.AxesSubplot at 0x7f0fe4ee4e50>"
            ]
          },
          "metadata": {},
          "execution_count": 13
        },
        {
          "output_type": "display_data",
          "data": {
            "image/png": "[encoded data removed]",
            "text/plain": [
              "<Figure size 432x288 with 1 Axes>"
            ]
          },
          "metadata": {
            "needs_background": "light"
          }
        }
      ],
      "source": [
        "hacks['hack_duration'].plot.hist(rot=0)"
      ]
    },
    {
      "cell_type": "code",
      "execution_count": null,
      "metadata": {
        "colab": {
          "base_uri": "https://localhost:8080/",
          "height": 1000
        },
        "id": "sdyuWL6mkaJG",
        "outputId": "04f90c2a-7cca-47d8-fe44-aeb9f9e67921"
      },
      "outputs": [
        {
          "output_type": "execute_result",
          "data": {
            "text/html": [
              "\n",
              "  <div id=\"df-f208cf63-7ee2-413a-b338-7be714ff84b1\">\n",
              "    <div class=\"colab-df-container\">\n",
              "      <div>\n",
              "<style scoped>\n",
              "    .dataframe tbody tr th:only-of-type {\n",
              "        vertical-align: middle;\n",
              "    }\n",
              "\n",
              "    .dataframe tbody tr th {\n",
              "        vertical-align: top;\n",
              "    }\n",
              "\n",
              "    .dataframe thead th {\n",
              "        text-align: right;\n",
              "    }\n",
              "</style>\n",
              "<table border=\"1\" class=\"dataframe\">\n",
              "  <thead>\n",
              "    <tr style=\"text-align: right;\">\n",
              "      <th></th>\n",
              "      <th>URL</th>\n",
              "      <th>Criteria</th>\n",
              "      <th>schedule</th>\n",
              "      <th>hack_type</th>\n",
              "      <th>info</th>\n",
              "      <th>start_date_format</th>\n",
              "      <th>end_date_format</th>\n",
              "      <th>Prizes</th>\n",
              "      <th>prize_money</th>\n",
              "      <th>Id</th>\n",
              "      <th>Title</th>\n",
              "      <th>Location</th>\n",
              "      <th>start_date</th>\n",
              "      <th>end_date</th>\n",
              "      <th>year</th>\n",
              "      <th>themes</th>\n",
              "      <th>prize</th>\n",
              "      <th>registered_N</th>\n",
              "      <th>featured</th>\n",
              "      <th>organization_name</th>\n",
              "      <th>winners_announced</th>\n",
              "      <th>submission_gal_url</th>\n",
              "      <th>start_a_submission_url</th>\n",
              "      <th>hack_duration</th>\n",
              "    </tr>\n",
              "  </thead>\n",
              "  <tbody>\n",
              "    <tr>\n",
              "      <th>0</th>\n",
              "      <td>https://ignition.devpost.com/</td>\n",
              "      <td>Potential Impact, Functionality, Novelty, Desi...</td>\n",
              "      <td>Submissions August 31 at 9:15am PDT October 15...</td>\n",
              "      <td>Public</td>\n",
              "      <td>Oct 18 – 22, 2021, Online, Public, Solana Capi...</td>\n",
              "      <td>2021-08-31</td>\n",
              "      <td>2021-10-16</td>\n",
              "      <td>Grand Prize Winner, Community Choice Award, Co...</td>\n",
              "      <td>$5,120,000</td>\n",
              "      <td>13240.0</td>\n",
              "      <td>IGNITION | A Global Solana Hackathon</td>\n",
              "      <td>Online</td>\n",
              "      <td>Aug 31</td>\n",
              "      <td>Oct 16</td>\n",
              "      <td>2021</td>\n",
              "      <td>Blockchain</td>\n",
              "      <td>$19,000</td>\n",
              "      <td>5867.0</td>\n",
              "      <td>False</td>\n",
              "      <td>Solana Capital</td>\n",
              "      <td>False</td>\n",
              "      <td>https://ignition.devpost.com/project-gallery</td>\n",
              "      <td>https://ignition.devpost.com/challenges/start_...</td>\n",
              "      <td>46</td>\n",
              "    </tr>\n",
              "    <tr>\n",
              "      <th>1</th>\n",
              "      <td>https://azure-sentinel-hackathon-2021.devpost....</td>\n",
              "      <td>Quality of Idea, Value to Enterprise, Technica...</td>\n",
              "      <td>Submissions June 21 at 9:30am PDT October 04 a...</td>\n",
              "      <td>Public</td>\n",
              "      <td>Oct 7 – 25, 2021, Online, Public, Microsoft, C...</td>\n",
              "      <td>2021-06-21</td>\n",
              "      <td>2021-10-04</td>\n",
              "      <td>First Prize, Second Prize, Runner Up          ...</td>\n",
              "      <td>$19,000</td>\n",
              "      <td>12634.0</td>\n",
              "      <td>Azure Sentinel Hackathon 2021</td>\n",
              "      <td>Online</td>\n",
              "      <td>Jun 21</td>\n",
              "      <td>Oct 04</td>\n",
              "      <td>2021</td>\n",
              "      <td>Cybersecurity</td>\n",
              "      <td>$19,000</td>\n",
              "      <td>499.0</td>\n",
              "      <td>False</td>\n",
              "      <td>Microsoft</td>\n",
              "      <td>False</td>\n",
              "      <td>https://azure-sentinel-hackathon-2021.devpost....</td>\n",
              "      <td>https://azure-sentinel-hackathon-2021.devpost....</td>\n",
              "      <td>105</td>\n",
              "    </tr>\n",
              "    <tr>\n",
              "      <th>6</th>\n",
              "      <td>https://awsgraviton.devpost.com/</td>\n",
              "      <td>Quality of the Idea, Potential Value, Implemen...</td>\n",
              "      <td>Submissions August 24 at 10:15am EDT October 1...</td>\n",
              "      <td>Public</td>\n",
              "      <td>Oct 29, 2021, Online, Public, Amazon, Enterpri...</td>\n",
              "      <td>2021-08-24</td>\n",
              "      <td>2021-10-13</td>\n",
              "      <td>Best New App, Runner Up - New App, Third Place...</td>\n",
              "      <td>$50,000</td>\n",
              "      <td>13116.0</td>\n",
              "      <td>AWS Graviton Hackathon</td>\n",
              "      <td>Online</td>\n",
              "      <td>Aug 24</td>\n",
              "      <td>Oct 13</td>\n",
              "      <td>2021</td>\n",
              "      <td>Enterprise, Gaming, Machine Learning/AI</td>\n",
              "      <td>$19,000</td>\n",
              "      <td>1282.0</td>\n",
              "      <td>False</td>\n",
              "      <td>Amazon</td>\n",
              "      <td>False</td>\n",
              "      <td>https://awsgraviton.devpost.com/project-gallery</td>\n",
              "      <td>https://awsgraviton.devpost.com/challenges/sta...</td>\n",
              "      <td>50</td>\n",
              "    </tr>\n",
              "    <tr>\n",
              "      <th>9</th>\n",
              "      <td>https://housestudentapps.devpost.com/</td>\n",
              "      <td>Quality of the Idea, Implementation, Programmi...</td>\n",
              "      <td>Submissions February 01 at 9:00am EST May 31 a...</td>\n",
              "      <td>Public</td>\n",
              "      <td>Jun 15, 2014, Online, Public</td>\n",
              "      <td>2014-02-01</td>\n",
              "      <td>2014-05-31</td>\n",
              "      <td>District Winner, Honorable Mention</td>\n",
              "      <td>no money prize</td>\n",
              "      <td>820.0</td>\n",
              "      <td>House Student App Challenge</td>\n",
              "      <td>Online</td>\n",
              "      <td>Feb 01</td>\n",
              "      <td>May 31</td>\n",
              "      <td>2014</td>\n",
              "      <td>NaN</td>\n",
              "      <td>$19,000</td>\n",
              "      <td>1211.0</td>\n",
              "      <td>False</td>\n",
              "      <td>NaN</td>\n",
              "      <td>False</td>\n",
              "      <td>https://housestudentapps.devpost.com/project-g...</td>\n",
              "      <td>https://housestudentapps.devpost.com/challenge...</td>\n",
              "      <td>119</td>\n",
              "    </tr>\n",
              "    <tr>\n",
              "      <th>12</th>\n",
              "      <td>https://bsvhackathon.devpost.com/</td>\n",
              "      <td>TECHNOLOGY, DESIGN, MARKET FIT, COMPLETION</td>\n",
              "      <td>Submissions June 14 at 10:00am CEST July 26 at...</td>\n",
              "      <td>Public</td>\n",
              "      <td>Oct 19, 2021, Online, Public, Bitcoin Associat...</td>\n",
              "      <td>2021-06-14</td>\n",
              "      <td>2021-07-26</td>\n",
              "      <td>1ST PLACE, 2ND PLACE, 3RD PLACE</td>\n",
              "      <td>$100,000</td>\n",
              "      <td>12470.0</td>\n",
              "      <td>Bitcoin SV Hackathon 2021</td>\n",
              "      <td>Online</td>\n",
              "      <td>Jun 14</td>\n",
              "      <td>Jul 26</td>\n",
              "      <td>2021</td>\n",
              "      <td>Blockchain</td>\n",
              "      <td>$19,000</td>\n",
              "      <td>654.0</td>\n",
              "      <td>False</td>\n",
              "      <td>Bitcoin Association</td>\n",
              "      <td>False</td>\n",
              "      <td>https://bsvhackathon.devpost.com/project-gallery</td>\n",
              "      <td>https://bsvhackathon.devpost.com/challenges/st...</td>\n",
              "      <td>42</td>\n",
              "    </tr>\n",
              "    <tr>\n",
              "      <th>...</th>\n",
              "      <td>...</td>\n",
              "      <td>...</td>\n",
              "      <td>...</td>\n",
              "      <td>...</td>\n",
              "      <td>...</td>\n",
              "      <td>...</td>\n",
              "      <td>...</td>\n",
              "      <td>...</td>\n",
              "      <td>...</td>\n",
              "      <td>...</td>\n",
              "      <td>...</td>\n",
              "      <td>...</td>\n",
              "      <td>...</td>\n",
              "      <td>...</td>\n",
              "      <td>...</td>\n",
              "      <td>...</td>\n",
              "      <td>...</td>\n",
              "      <td>...</td>\n",
              "      <td>...</td>\n",
              "      <td>...</td>\n",
              "      <td>...</td>\n",
              "      <td>...</td>\n",
              "      <td>...</td>\n",
              "      <td>...</td>\n",
              "    </tr>\n",
              "    <tr>\n",
              "      <th>5860</th>\n",
              "      <td>https://prom-nov15.devpost.com/</td>\n",
              "      <td>Idea, Implementation, Presentation</td>\n",
              "      <td>Submissions November 04 at 9:00pm PST December...</td>\n",
              "      <td>Public</td>\n",
              "      <td>Nov 4 – Dec 2, 2015, University of California,...</td>\n",
              "      <td>2015-11-05</td>\n",
              "      <td>2015-12-02</td>\n",
              "      <td>First Place</td>\n",
              "      <td>$200</td>\n",
              "      <td>3157.0</td>\n",
              "      <td>CSES Project of the Month (PROM) - November 2015</td>\n",
              "      <td>Offline</td>\n",
              "      <td>Nov 05</td>\n",
              "      <td>Dec 02</td>\n",
              "      <td>2015</td>\n",
              "      <td>NaN</td>\n",
              "      <td>$19,000</td>\n",
              "      <td>16.0</td>\n",
              "      <td>False</td>\n",
              "      <td>NaN</td>\n",
              "      <td>True</td>\n",
              "      <td>https://prom-nov15.devpost.com/project-gallery</td>\n",
              "      <td>https://prom-nov15.devpost.com/challenges/star...</td>\n",
              "      <td>27</td>\n",
              "    </tr>\n",
              "    <tr>\n",
              "      <th>5908</th>\n",
              "      <td>https://gctechspacepebble.devpost.com/</td>\n",
              "      <td>Pebble Watch Central, Technical challenge, Use...</td>\n",
              "      <td>Submissions February 18 at 6:00pm AEST March 1...</td>\n",
              "      <td>Public</td>\n",
              "      <td>Feb 18 – Mar 18, 2015, Robina, Australia, Public</td>\n",
              "      <td>2015-02-18</td>\n",
              "      <td>2015-03-18</td>\n",
              "      <td>Pebble Watch              (3)</td>\n",
              "      <td>$297</td>\n",
              "      <td>2005.0</td>\n",
              "      <td>GCTechSpace Pebble Watch Makerthon</td>\n",
              "      <td>Offline</td>\n",
              "      <td>Feb 18</td>\n",
              "      <td>Mar 18</td>\n",
              "      <td>2015</td>\n",
              "      <td>NaN</td>\n",
              "      <td>$19,000</td>\n",
              "      <td>14.0</td>\n",
              "      <td>False</td>\n",
              "      <td>NaN</td>\n",
              "      <td>True</td>\n",
              "      <td>https://gctechspacepebble.devpost.com/project-...</td>\n",
              "      <td>https://gctechspacepebble.devpost.com/challeng...</td>\n",
              "      <td>28</td>\n",
              "    </tr>\n",
              "    <tr>\n",
              "      <th>5910</th>\n",
              "      <td>https://employment.devpost.com/</td>\n",
              "      <td>Use of Required Data, Technical Implementation...</td>\n",
              "      <td>Submissions July 14 at 12:00am EDT September 1...</td>\n",
              "      <td>Public</td>\n",
              "      <td>Jul 14 – Sep 14, 2011, Online, Public</td>\n",
              "      <td>2011-07-14</td>\n",
              "      <td>2011-09-14</td>\n",
              "      <td>First Place, Second Place, Third Place, Honora...</td>\n",
              "      <td>$33,500</td>\n",
              "      <td>202.0</td>\n",
              "      <td>Occupational Employment Statistics Challenge</td>\n",
              "      <td>Online</td>\n",
              "      <td>Jul 14</td>\n",
              "      <td>Sep 14</td>\n",
              "      <td>2011</td>\n",
              "      <td>NaN</td>\n",
              "      <td>$19,000</td>\n",
              "      <td>14.0</td>\n",
              "      <td>False</td>\n",
              "      <td>NaN</td>\n",
              "      <td>True</td>\n",
              "      <td>https://employment.devpost.com/project-gallery</td>\n",
              "      <td>https://employment.devpost.com/challenges/star...</td>\n",
              "      <td>62</td>\n",
              "    </tr>\n",
              "    <tr>\n",
              "      <th>6029</th>\n",
              "      <td>https://se-hack-2014-11.devpost.com/</td>\n",
              "      <td>Žaidimo išbaigtumas, Universalumas, Idėjos ori...</td>\n",
              "      <td>Submissions November 22 at 12:00pm EET Decembe...</td>\n",
              "      <td>Public</td>\n",
              "      <td>Nov 22 – Dec 16, 2014, Lithuania, Public</td>\n",
              "      <td>2014-11-22</td>\n",
              "      <td>2014-12-16</td>\n",
              "      <td>Geriausias žaidimas, Geriausias žaidimas</td>\n",
              "      <td>no money prize</td>\n",
              "      <td>1673.0</td>\n",
              "      <td>Solid Education # Hackathon Challenge 2014-12</td>\n",
              "      <td>Offline</td>\n",
              "      <td>Nov 22</td>\n",
              "      <td>Dec 16</td>\n",
              "      <td>2014</td>\n",
              "      <td>NaN</td>\n",
              "      <td>$19,000</td>\n",
              "      <td>9.0</td>\n",
              "      <td>False</td>\n",
              "      <td>NaN</td>\n",
              "      <td>True</td>\n",
              "      <td>https://se-hack-2014-11.devpost.com/project-ga...</td>\n",
              "      <td>https://se-hack-2014-11.devpost.com/challenges...</td>\n",
              "      <td>24</td>\n",
              "    </tr>\n",
              "    <tr>\n",
              "      <th>6052</th>\n",
              "      <td>https://generations-hacks.devpost.com/</td>\n",
              "      <td>Best Overall Hack</td>\n",
              "      <td>Submissions July 25 at 12:00am EDT August 27 a...</td>\n",
              "      <td>Public</td>\n",
              "      <td>Jul 25 – Aug 27, 2020, Location TBD, Public, B...</td>\n",
              "      <td>2020-07-25</td>\n",
              "      <td>2020-08-27</td>\n",
              "      <td>1st Place, Honorable Mention</td>\n",
              "      <td>$2,500</td>\n",
              "      <td>10538.0</td>\n",
              "      <td>Blockchain Generations - Hacks for the Future</td>\n",
              "      <td>Offline</td>\n",
              "      <td>Jul 25</td>\n",
              "      <td>Aug 27</td>\n",
              "      <td>2020</td>\n",
              "      <td>Blockchain, Machine Learning/AI, Cybersecurity</td>\n",
              "      <td>$19,000</td>\n",
              "      <td>7.0</td>\n",
              "      <td>False</td>\n",
              "      <td>NaN</td>\n",
              "      <td>True</td>\n",
              "      <td>https://generations-hacks.devpost.com/project-...</td>\n",
              "      <td>https://generations-hacks.devpost.com/challeng...</td>\n",
              "      <td>33</td>\n",
              "    </tr>\n",
              "  </tbody>\n",
              "</table>\n",
              "<p>609 rows × 24 columns</p>\n",
              "</div>\n",
              "      <button class=\"colab-df-convert\" onclick=\"convertToInteractive('df-f208cf63-7ee2-413a-b338-7be714ff84b1')\"\n",
              "              title=\"Convert this dataframe to an interactive table.\"\n",
              "              style=\"display:none;\">\n",
              "        \n",
              "  <svg xmlns=\"http://www.w3.org/2000/svg\" height=\"24px\"viewBox=\"0 0 24 24\"\n",
              "       width=\"24px\">\n",
              "    <path d=\"M0 0h24v24H0V0z\" fill=\"none\"/>\n",
              "    <path d=\"M18.56 5.44l.94 2.06.94-2.06 2.06-.94-2.06-.94-.94-2.06-.94 2.06-2.06.94zm-11 1L8.5 8.5l.94-2.06 2.06-.94-2.06-.94L8.5 2.5l-.94 2.06-2.06.94zm10 10l.94 2.06.94-2.06 2.06-.94-2.06-.94-.94-2.06-.94 2.06-2.06.94z\"/><path d=\"M17.41 7.96l-1.37-1.37c-.4-.4-.92-.59-1.43-.59-.52 0-1.04.2-1.43.59L10.3 9.45l-7.72 7.72c-.78.78-.78 2.05 0 2.83L4 21.41c.39.39.9.59 1.41.59.51 0 1.02-.2 1.41-.59l7.78-7.78 2.81-2.81c.8-.78.8-2.07 0-2.86zM5.41 20L4 18.59l7.72-7.72 1.47 1.35L5.41 20z\"/>\n",
              "  </svg>\n",
              "      </button>\n",
              "      \n",
              "  <style>\n",
              "    .colab-df-container {\n",
              "      display:flex;\n",
              "      flex-wrap:wrap;\n",
              "      gap: 12px;\n",
              "    }\n",
              "\n",
              "    .colab-df-convert {\n",
              "      background-color: #E8F0FE;\n",
              "      border: none;\n",
              "      border-radius: 50%;\n",
              "      cursor: pointer;\n",
              "      display: none;\n",
              "      fill: #1967D2;\n",
              "      height: 32px;\n",
              "      padding: 0 0 0 0;\n",
              "      width: 32px;\n",
              "    }\n",
              "\n",
              "    .colab-df-convert:hover {\n",
              "      background-color: #E2EBFA;\n",
              "      box-shadow: 0px 1px 2px rgba(60, 64, 67, 0.3), 0px 1px 3px 1px rgba(60, 64, 67, 0.15);\n",
              "      fill: #174EA6;\n",
              "    }\n",
              "\n",
              "    [theme=dark] .colab-df-convert {\n",
              "      background-color: #3B4455;\n",
              "      fill: #D2E3FC;\n",
              "    }\n",
              "\n",
              "    [theme=dark] .colab-df-convert:hover {\n",
              "      background-color: #434B5C;\n",
              "      box-shadow: 0px 1px 3px 1px rgba(0, 0, 0, 0.15);\n",
              "      filter: drop-shadow(0px 1px 2px rgba(0, 0, 0, 0.3));\n",
              "      fill: #FFFFFF;\n",
              "    }\n",
              "  </style>\n",
              "\n",
              "      <script>\n",
              "        const buttonEl =\n",
              "          document.querySelector('#df-f208cf63-7ee2-413a-b338-7be714ff84b1 button.colab-df-convert');\n",
              "        buttonEl.style.display =\n",
              "          google.colab.kernel.accessAllowed ? 'block' : 'none';\n",
              "\n",
              "        async function convertToInteractive(key) {\n",
              "          const element = document.querySelector('#df-f208cf63-7ee2-413a-b338-7be714ff84b1');\n",
              "          const dataTable =\n",
              "            await google.colab.kernel.invokeFunction('convertToInteractive',\n",
              "                                                     [key], {});\n",
              "          if (!dataTable) return;\n",
              "\n",
              "          const docLinkHtml = 'Like what you see? Visit the ' +\n",
              "            '<a target=\"_blank\" href=https://colab.research.google.com/notebooks/data_table.ipynb>data table notebook</a>'\n",
              "            + ' to learn more about interactive tables.';\n",
              "          element.innerHTML = '';\n",
              "          dataTable['output_type'] = 'display_data';\n",
              "          await google.colab.output.renderOutput(dataTable, element);\n",
              "          const docLink = document.createElement('div');\n",
              "          docLink.innerHTML = docLinkHtml;\n",
              "          element.appendChild(docLink);\n",
              "        }\n",
              "      </script>\n",
              "    </div>\n",
              "  </div>\n",
              "  "
            ],
            "text/plain": [
              "                                                    URL  ... hack_duration\n",
              "0                         https://ignition.devpost.com/  ...            46\n",
              "1     https://azure-sentinel-hackathon-2021.devpost....  ...           105\n",
              "6                      https://awsgraviton.devpost.com/  ...            50\n",
              "9                 https://housestudentapps.devpost.com/  ...           119\n",
              "12                    https://bsvhackathon.devpost.com/  ...            42\n",
              "...                                                 ...  ...           ...\n",
              "5860                    https://prom-nov15.devpost.com/  ...            27\n",
              "5908             https://gctechspacepebble.devpost.com/  ...            28\n",
              "5910                    https://employment.devpost.com/  ...            62\n",
              "6029               https://se-hack-2014-11.devpost.com/  ...            24\n",
              "6052             https://generations-hacks.devpost.com/  ...            33\n",
              "\n",
              "[609 rows x 24 columns]"
            ]
          },
          "metadata": {},
          "execution_count": 14
        }
      ],
      "source": [
        "hacks[hacks['hack_duration']>21] #there are 609  hacks out of 6052 with duration longer than 21 day, so only 10% and we can remove them"
      ]
    },
    {
      "cell_type": "code",
      "execution_count": null,
      "metadata": {
        "id": "9AuSc-JNkY95"
      },
      "outputs": [],
      "source": [
        "hacks = hacks[hacks['hack_duration']<21] #we deleted all hacks that last more than 21 day\n",
        "hacks = hacks[hacks['hack_duration']>=0] #we also deleted hacks that last less than 0 days, becasue it simply means that start and end date were not correct"
      ]
    },
    {
      "cell_type": "code",
      "execution_count": null,
      "metadata": {
        "colab": {
          "base_uri": "https://localhost:8080/",
          "height": 282
        },
        "id": "Ul5VUJjrkpea",
        "outputId": "11335680-fc8b-47fd-93f9-35f76f026d65"
      },
      "outputs": [
        {
          "output_type": "execute_result",
          "data": {
            "text/plain": [
              "<matplotlib.axes._subplots.AxesSubplot at 0x7f0fe4fcde50>"
            ]
          },
          "metadata": {},
          "execution_count": 16
        },
        {
          "output_type": "display_data",
          "data": {
            "image/png": "[encoded data removed]",
            "text/plain": [
              "<Figure size 432x288 with 1 Axes>"
            ]
          },
          "metadata": {
            "needs_background": "light"
          }
        }
      ],
      "source": [
        "hacks['hack_duration'].plot.hist(rot=0)"
      ]
    },
    {
      "cell_type": "markdown",
      "metadata": {
        "id": "dra4qLKvvBxa"
      },
      "source": [
        "After this our data look the following way"
      ]
    },
    {
      "cell_type": "code",
      "execution_count": null,
      "metadata": {
        "colab": {
          "base_uri": "https://localhost:8080/",
          "height": 401
        },
        "id": "9aOkN9uueQHJ",
        "outputId": "8ef9ba5e-97ac-4491-85e5-a8b750e3f464"
      },
      "outputs": [
        {
          "output_type": "stream",
          "name": "stderr",
          "text": [
            "/usr/local/lib/python3.7/dist-packages/pandas/core/indexing.py:1763: SettingWithCopyWarning: \n",
            "A value is trying to be set on a copy of a slice from a DataFrame.\n",
            "Try using .loc[row_indexer,col_indexer] = value instead\n",
            "\n",
            "See the caveats in the documentation: https://pandas.pydata.org/pandas-docs/stable/user_guide/indexing.html#returning-a-view-versus-a-copy\n",
            "  isetter(loc, value)\n"
          ]
        },
        {
          "output_type": "execute_result",
          "data": {
            "text/plain": [
              "<matplotlib.axes._subplots.AxesSubplot at 0x7f0fe4feb050>"
            ]
          },
          "metadata": {},
          "execution_count": 17
        },
        {
          "output_type": "display_data",
          "data": {
            "image/png": "[encoded data removed]",
            "text/plain": [
              "<Figure size 432x288 with 1 Axes>"
            ]
          },
          "metadata": {
            "needs_background": "light"
          }
        }
      ],
      "source": [
        "test_3 = hacks[['hack_duration', 'Location', 'start_date_format']]\n",
        "test_3.loc[test_3['Location'] != 'Online', 'Location'] = 'Offline' \n",
        "\n",
        "grouped_criteria = test_3.groupby('Location').mean()\n",
        "grouped_criteria.plot.bar(rot=0)"
      ]
    },
    {
      "cell_type": "code",
      "execution_count": null,
      "metadata": {
        "id": "j4-PFS-WC5eR"
      },
      "outputs": [],
      "source": [
        "#we can see that some projects were submitted to multiple hackathons, for example https://devpost.com/software/005_hilfsmittelverteilung_ja or https://devpost.com/software/15_simply_happy and therefore we will remove duplicates from project links (submission gallery is different one) and keep only first submission\n",
        "projects = projects.merge(hacks, on='submission_gal_url', how='left')\n",
        "projects.sort_values(by = ['project_URL', 'start_date_format'], ascending = [True, True], inplace = True)\n",
        "projects.drop_duplicates('project_URL', inplace=True)\n",
        "# project_dupl[project_dupl['project_URL']=='https://devpost.com/software/break-ly-podic8'] this row was to check that only one project with the earliest hack date was saved\n",
        "#example https://devpost.com/software/break-ly-podic8\n",
        "#after this step we now have 166895 projects in total"
      ]
    },
    {
      "cell_type": "code",
      "execution_count": null,
      "metadata": {
        "id": "cwBEHwyg2CF2"
      },
      "outputs": [],
      "source": [
        "\n",
        "projects = projects[projects['hack_duration']<21] #we deleted also all projects that were created in hacks that last more than 21 day\n",
        "projects = projects[projects['hack_duration']>=0] #and projects that were created in hacks  that last less than 0 days, becasue it simply means that start and end date were not correct"
      ]
    },
    {
      "cell_type": "markdown",
      "metadata": {
        "id": "ezssE8p5xrWc"
      },
      "source": [
        "## 2. Calculating distance between all locations"
      ]
    },
    {
      "cell_type": "code",
      "execution_count": null,
      "metadata": {
        "id": "qoS6aiyMe-so"
      },
      "outputs": [],
      "source": [
        "# add columns with radians for latitude and longitude\n",
        "participants_locations[['lat_radians','long_radians']] = (\n",
        "    np.radians(participants_locations.loc[:,['lat','lon']]))"
      ]
    },
    {
      "cell_type": "code",
      "execution_count": null,
      "metadata": {
        "id": "fsYHj-5x0koi"
      },
      "outputs": [],
      "source": [
        "# https://medium.com/@danalindquist/finding-the-distance-between-two-lists-of-geographic-coordinates-9ace7e43bb2f\n",
        "dist = sklearn.neighbors.DistanceMetric.get_metric('haversine')\n",
        "dist_matrix = (dist.pairwise\n",
        "    (participants_locations[['lat_radians','long_radians']],\n",
        "     participants_locations[['lat_radians','long_radians']])*6371\n",
        ")\n",
        "# Note that 6371 is the radius of the earth in kilometeres\n",
        "df_dist_matrix = (\n",
        "    pd.DataFrame(dist_matrix,index=participants_locations['country'], \n",
        "                 columns=participants_locations['country'])\n",
        ")"
      ]
    },
    {
      "cell_type": "code",
      "execution_count": null,
      "metadata": {
        "id": "r2qyn9OZ0XE_"
      },
      "outputs": [],
      "source": [
        "def get_mean_participants_dist(projects_df, participants_df, dists_matrix_df, threshold=0.7):\n",
        "  participant_county_dict = {row['0']: row['country'] for i, row in participants_df.iterrows()}\n",
        "\n",
        "  mean_dists = []\n",
        "\n",
        "  for participants_projects in tqdm(projects_df['participants']):\n",
        "    all_participants = np.array(participants_projects.split(', '))\n",
        "    contains_mask = [p in participant_county_dict for p in all_participants]\n",
        "\n",
        "    if sum(contains_mask) / len(contains_mask) >= threshold:\n",
        "      partisipants_with_countries = all_participants[contains_mask]\n",
        "      dists = []\n",
        "\n",
        "      for i, p1 in enumerate(partisipants_with_countries[ :len(partisipants_with_countries)-1]):\n",
        "        for p2 in partisipants_with_countries[i+1: ]:\n",
        "          p1_country = participant_county_dict[p1]\n",
        "          p2_country = participant_county_dict[p2]\n",
        "          dists.append(np.squeeze(dists_matrix_df.loc[p1_country, p2_country]))\n",
        "      \n",
        "      mean_dists.append(np.mean(dists))    \n",
        "    else:\n",
        "      mean_dists.append(-1)\n",
        "  \n",
        "  return mean_dists"
      ]
    },
    {
      "cell_type": "code",
      "execution_count": null,
      "metadata": {
        "colab": {
          "base_uri": "https://localhost:8080/"
        },
        "id": "buvLvVnN2JB6",
        "outputId": "aa16dc21-c6ae-4160-e3af-3f10b34002b2"
      },
      "outputs": [
        {
          "output_type": "stream",
          "name": "stderr",
          "text": [
            "100%|██████████| 74297/74297 [00:06<00:00, 10919.14it/s]\n"
          ]
        }
      ],
      "source": [
        "mean_dists = get_mean_participants_dist(projects, participants, df_dist_matrix)\n",
        "projects['intergroup_spartial_dist'] = mean_dists"
      ]
    },
    {
      "cell_type": "markdown",
      "metadata": {
        "id": "SbApAYLL10Y4"
      },
      "source": [
        "As an addition to data cleaning done in previous part, we will also consider only projects that are done by group where at least 70% of people have stated their location"
      ]
    },
    {
      "cell_type": "code",
      "execution_count": null,
      "metadata": {
        "id": "eKy0nF052Glq"
      },
      "outputs": [],
      "source": [
        "projects = projects[projects['intergroup_spartial_dist'] != -1] # now we are having 46819 projects where we can calculate the distance between team mates (so, at least 70% of peers have cpncrete location)"
      ]
    },
    {
      "cell_type": "markdown",
      "metadata": {
        "id": "0s9m_Pr92brY"
      },
      "source": [
        "## 3. Plot data insights"
      ]
    },
    {
      "cell_type": "code",
      "execution_count": null,
      "metadata": {
        "id": "AEBOSPNP9-b0"
      },
      "outputs": [],
      "source": [
        "# projects_with_location_status = projects.merge(hacks[['submission_gal_url', 'Location']], how='left')\n",
        "# projects.loc[projects['Location'] != 'Online', 'Location'] = 'Offline'"
      ]
    },
    {
      "cell_type": "code",
      "execution_count": null,
      "metadata": {
        "colab": {
          "base_uri": "https://localhost:8080/",
          "height": 286
        },
        "id": "EqvLWQzMBYKN",
        "outputId": "1f21a9a9-eee2-46a3-c23a-04df8405b1bf"
      },
      "outputs": [
        {
          "output_type": "execute_result",
          "data": {
            "text/plain": [
              "<matplotlib.axes._subplots.AxesSubplot at 0x7f0fe531b7d0>"
            ]
          },
          "metadata": {},
          "execution_count": 27
        },
        {
          "output_type": "display_data",
          "data": {
            "image/png": "[encoded data removed]",
            "text/plain": [
              "<Figure size 432x288 with 1 Axes>"
            ]
          },
          "metadata": {
            "needs_background": "light"
          }
        }
      ],
      "source": [
        "# has_mean_dist = projects_with_location_status['intergroup_spartial_dist'] != -1\n",
        "\n",
        "projects.loc[(projects['Location'] == 'Online'), 'intergroup_spartial_dist'].hist()"
      ]
    },
    {
      "cell_type": "code",
      "execution_count": null,
      "metadata": {
        "colab": {
          "base_uri": "https://localhost:8080/",
          "height": 282
        },
        "id": "-iO9IIyhB8iH",
        "outputId": "f2d08d2c-f714-44f0-b828-4f60f65d17b1"
      },
      "outputs": [
        {
          "output_type": "execute_result",
          "data": {
            "text/plain": [
              "<matplotlib.axes._subplots.AxesSubplot at 0x7f0fe53bd9d0>"
            ]
          },
          "metadata": {},
          "execution_count": 28
        },
        {
          "output_type": "display_data",
          "data": {
            "image/png": "[encoded data removed]",
            "text/plain": [
              "<Figure size 432x288 with 1 Axes>"
            ]
          },
          "metadata": {
            "needs_background": "light"
          }
        }
      ],
      "source": [
        "projects.loc[(projects['Location'] == 'Offline'), 'intergroup_spartial_dist'].hist(color='orange')"
      ]
    },
    {
      "cell_type": "code",
      "execution_count": null,
      "metadata": {
        "colab": {
          "base_uri": "https://localhost:8080/"
        },
        "id": "jJ04U_U0ClRx",
        "outputId": "abadb03b-6c0f-40f2-e71e-b314c0620705"
      },
      "outputs": [
        {
          "output_type": "stream",
          "name": "stdout",
          "text": [
            "Mean spartial distance for online hacks: 1381.01647290228\n",
            "Mean spartial distance for offline hacks: 723.2125736838101\n"
          ]
        }
      ],
      "source": [
        "mean_online_dist = np.mean(projects.loc[(projects['Location'] == 'Online'), 'intergroup_spartial_dist'])\n",
        "mean_offline_dist = np.mean(projects.loc[(projects['Location'] == 'Offline'), 'intergroup_spartial_dist'])\n",
        "\n",
        "print(f\"Mean spartial distance for online hacks: {mean_online_dist}\")\n",
        "print(f\"Mean spartial distance for offline hacks: {mean_offline_dist}\")"
      ]
    },
    {
      "cell_type": "code",
      "execution_count": null,
      "metadata": {
        "id": "k1aUasg5NpSu"
      },
      "outputs": [],
      "source": [
        "online_dists = projects.loc[(projects['Location'] == 'Online'), 'intergroup_spartial_dist'].values\n",
        "offline_dists = projects.loc[(projects['Location'] == 'Offline'), 'intergroup_spartial_dist'].values"
      ]
    },
    {
      "cell_type": "code",
      "execution_count": null,
      "metadata": {
        "colab": {
          "base_uri": "https://localhost:8080/"
        },
        "id": "HqEN5ixmPNmC",
        "outputId": "17c628ab-85d8-48f5-ac9a-d1ba1cea795a"
      },
      "outputs": [
        {
          "output_type": "stream",
          "name": "stdout",
          "text": [
            "T-statistic: 34.761474563391765, p-value 1.965618645142433e-261\n",
            "U-statistic: 181081659.5, p-value 4.7460193012078564e-216\n"
          ]
        }
      ],
      "source": [
        "# STAR NOTATIONS, HOW MANY DIGITS AFTER COMMA\n",
        "from scipy import stats\n",
        "\n",
        "stat_t, p1 = stats.ttest_ind(online_dists, offline_dists)\n",
        "print(f\"T-statistic: {stat_t}, p-value {p1}\")\n",
        "\n",
        "stat_u, p2 = stats.mannwhitneyu(online_dists, offline_dists)\n",
        "print(f\"U-statistic: {stat_u}, p-value {p2}\")"
      ]
    },
    {
      "cell_type": "markdown",
      "metadata": {
        "id": "V0xVyoEmMs_N"
      },
      "source": [
        "## 4. Time zone difference calculation"
      ]
    },
    {
      "cell_type": "code",
      "execution_count": null,
      "metadata": {
        "id": "tTZpixxayjVR"
      },
      "outputs": [],
      "source": [
        "tz = []\n",
        "for ind, row in participants_locations.iterrows():\n",
        "  try:\n",
        "    zone =  tf.timezone_at(lng=row['lon'], lat=row['lat'])\n",
        "    tz.append(zone)\n",
        "  except:\n",
        "    print(f\"Timeout error in row {ind}\")\n",
        "    tz.append(None)\n",
        "\n",
        "participants_locations['tz_name'] = tz\n",
        "participants = participants.merge(participants_locations[['country', 'tz_name']], on='country', how='left')"
      ]
    },
    {
      "cell_type": "code",
      "execution_count": null,
      "metadata": {
        "id": "8yO0QyWUGcyU"
      },
      "outputs": [],
      "source": [
        "from pytz import timezone\n",
        "import pandas as pd\n",
        "\n",
        "def tz_diff(date, tz1, tz2):\n",
        "    '''\n",
        "    Returns the difference in hours between timezone1 and timezone2\n",
        "    for a given date.\n",
        "    '''\n",
        "    date = pd.to_datetime(date) if date == 'NaT' else datetime.now()\n",
        "    \n",
        "    return (max(tz1.localize(date),tz2.localize(date)) - \n",
        "            min(tz1.localize(date),tz2.localize(date)).astimezone(tz1))\\\n",
        "            .seconds/3600\n",
        "\n",
        "# we substitute min value from max vale, our calculation also takes into consideration DST (daylight saving time) by taking as an input date when hackathon started\n",
        "# tz_diff('2021-08-01', timezone('America/Los_Angeles'), timezone('America/New_York')), tz_diff('2021-08-01', timezone('America/New_York'), timezone('America/Los_Angeles'))"
      ]
    },
    {
      "cell_type": "code",
      "execution_count": null,
      "metadata": {
        "id": "oL6o69vjIg8K"
      },
      "outputs": [],
      "source": [
        "def get_mean_participants_dist(projects_df, participants_df, dists_matrix_df=None, threshold=0.7):\n",
        "  if dists_matrix_df:\n",
        "    participant_info_dict = {row['0']: row['country'] for i, row in participants_df.iterrows()}\n",
        "  else: \n",
        "    participant_info_dict = {row['0']: row['tz_name'] for i, row in participants_df.iterrows()}\n",
        "\n",
        "  mean_dists = []\n",
        "\n",
        "  for participants_projects, start_date in tqdm(zip(projects_df['participants'], projects_df['start_date_format']), total=projects_df.shape[0]):\n",
        "    all_participants = np.array(participants_projects.split(', '))\n",
        "    contains_mask = [p in participant_info_dict for p in all_participants]\n",
        "\n",
        "    if sum(contains_mask) / len(contains_mask) >= threshold:\n",
        "      partisipants_with_countries = all_participants[contains_mask]\n",
        "      dists = []\n",
        "\n",
        "      for i, p1 in enumerate(partisipants_with_countries[ :len(partisipants_with_countries)-1]):\n",
        "        for p2 in partisipants_with_countries[i+1: ]:\n",
        "          if dists_matrix_df:\n",
        "            p1_country = participant_info_dict[p1]\n",
        "            p2_country = participant_info_dict[p2]\n",
        "            dists.append(np.squeeze(dists_matrix_df.loc[p1_country, p2_country]))\n",
        "          else:\n",
        "            p1_tz = participant_info_dict[p1]\n",
        "            p2_tz = participant_info_dict[p2]\n",
        "            dists.append(tz_diff(start_date, timezone(p1_tz), timezone(p2_tz)))\n",
        "      \n",
        "      mean_dists.append(np.mean(dists))\n",
        "    \n",
        "    else:\n",
        "      mean_dists.append(-1)\n",
        "  \n",
        "  return mean_dists"
      ]
    },
    {
      "cell_type": "code",
      "execution_count": null,
      "metadata": {
        "id": "7oKD1gt_KS77",
        "colab": {
          "base_uri": "https://localhost:8080/"
        },
        "outputId": "64459cc6-88d6-4454-a99e-30c6b154137c"
      },
      "outputs": [
        {
          "output_type": "stream",
          "name": "stderr",
          "text": [
            "100%|██████████| 46955/46955 [00:27<00:00, 1682.27it/s]\n"
          ]
        }
      ],
      "source": [
        "tz_dists = get_mean_participants_dist(projects, participants)\n",
        "projects['intergroup_tz_dist'] = tz_dists"
      ]
    },
    {
      "cell_type": "markdown",
      "metadata": {
        "id": "w2GI7j7J505Q"
      },
      "source": [
        "Same as previously, we will delete groups where we were not able to calculate tz_difference at least between 70% of team members "
      ]
    },
    {
      "cell_type": "code",
      "execution_count": null,
      "metadata": {
        "id": "zsX67tyV6WbZ"
      },
      "outputs": [],
      "source": [
        "projects = projects[projects['intergroup_tz_dist'] != -1]"
      ]
    },
    {
      "cell_type": "code",
      "execution_count": null,
      "metadata": {
        "colab": {
          "base_uri": "https://localhost:8080/",
          "height": 282
        },
        "id": "W0CP0CwQWvsT",
        "outputId": "ad7f1671-11ab-459b-bb5d-1ea2b9c05ac3"
      },
      "outputs": [
        {
          "output_type": "execute_result",
          "data": {
            "text/plain": [
              "<matplotlib.axes._subplots.AxesSubplot at 0x7f0fe53695d0>"
            ]
          },
          "metadata": {},
          "execution_count": 40
        },
        {
          "output_type": "display_data",
          "data": {
            "image/png": "[encoded data removed]",
            "text/plain": [
              "<Figure size 432x288 with 1 Axes>"
            ]
          },
          "metadata": {
            "needs_background": "light"
          }
        }
      ],
      "source": [
        "data_with_location_status = projects\n",
        "data_with_location_status.loc[data_with_location_status['Location'] != 'Online', 'Location'] = 'Offline'\n",
        "has_mean_dist = data_with_location_status['intergroup_tz_dist'] != -1\n",
        "data_with_location_status.loc[(has_mean_dist) & (data_with_location_status['Location'] == 'Online'), 'intergroup_tz_dist'].hist()"
      ]
    },
    {
      "cell_type": "code",
      "execution_count": null,
      "metadata": {
        "colab": {
          "base_uri": "https://localhost:8080/",
          "height": 282
        },
        "id": "FpPascBhaIV5",
        "outputId": "168f4512-ccbc-4c56-8347-df16eb4a0e94"
      },
      "outputs": [
        {
          "output_type": "execute_result",
          "data": {
            "text/plain": [
              "<matplotlib.axes._subplots.AxesSubplot at 0x7f0feb530890>"
            ]
          },
          "metadata": {},
          "execution_count": 41
        },
        {
          "output_type": "display_data",
          "data": {
            "image/png": "[encoded data removed]",
            "text/plain": [
              "<Figure size 432x288 with 1 Axes>"
            ]
          },
          "metadata": {
            "needs_background": "light"
          }
        }
      ],
      "source": [
        "data_with_location_status.loc[(has_mean_dist) & (data_with_location_status['Location'] == 'Offline'), 'intergroup_tz_dist'].hist(color='orange')"
      ]
    },
    {
      "cell_type": "code",
      "execution_count": null,
      "metadata": {
        "colab": {
          "base_uri": "https://localhost:8080/"
        },
        "id": "leGQwIykaiIP",
        "outputId": "f5c68e1b-ace3-423b-c127-1d892c3b1e6a"
      },
      "outputs": [
        {
          "output_type": "stream",
          "name": "stdout",
          "text": [
            "Mean time zone distance for online hacks: 1.0397090221895884\n",
            "Mean time zone distance for offline hacks: 0.5427933030243716\n"
          ]
        }
      ],
      "source": [
        "mean_online_tz_dist = np.mean(data_with_location_status.loc[(has_mean_dist) & (data_with_location_status['Location'] == 'Online'), 'intergroup_tz_dist'])\n",
        "mean_offline_tz_dist = np.mean(data_with_location_status.loc[(has_mean_dist) & (data_with_location_status['Location'] == 'Offline'), 'intergroup_tz_dist'])\n",
        "\n",
        "print(f\"Mean time zone distance for online hacks: {mean_online_tz_dist}\")\n",
        "print(f\"Mean time zone distance for offline hacks: {mean_offline_tz_dist}\")"
      ]
    },
    {
      "cell_type": "code",
      "execution_count": null,
      "metadata": {
        "id": "shU7RITcbXp1"
      },
      "outputs": [],
      "source": [
        "online_tz_dists = data_with_location_status.loc[(has_mean_dist) & (data_with_location_status['Location'] == 'Online'), 'intergroup_tz_dist'].values\n",
        "offline_tz_dists = data_with_location_status.loc[(has_mean_dist) & (data_with_location_status['Location'] == 'Offline'), 'intergroup_tz_dist'].values"
      ]
    },
    {
      "cell_type": "code",
      "execution_count": null,
      "metadata": {
        "colab": {
          "base_uri": "https://localhost:8080/"
        },
        "id": "hYHgXSozblzJ",
        "outputId": "cc4d23a9-b677-4afe-ab15-ae53733c1529"
      },
      "outputs": [
        {
          "output_type": "stream",
          "name": "stdout",
          "text": [
            "T-statistic: 27.774653942752646, p-value 2.0337349467113481e-168\n",
            "U-statistic: 196826130.5, p-value 6.036856993759698e-140\n"
          ]
        }
      ],
      "source": [
        "from scipy import stats\n",
        "\n",
        "stat_t, p1 = stats.ttest_ind(online_tz_dists, offline_tz_dists)\n",
        "print(f\"T-statistic: {stat_t}, p-value {p1}\")\n",
        "\n",
        "stat_u, p2 = stats.mannwhitneyu(online_tz_dists, offline_tz_dists)\n",
        "print(f\"U-statistic: {stat_u}, p-value {p2}\")"
      ]
    },
    {
      "cell_type": "markdown",
      "metadata": {
        "id": "uRofQ5ty6uCd"
      },
      "source": [
        "Checking if there are groups with high spatial distance and low time zone difference"
      ]
    },
    {
      "cell_type": "code",
      "execution_count": null,
      "metadata": {
        "id": "a0ooJ9TbepdN"
      },
      "outputs": [],
      "source": [
        "tz_spatial_check = projects"
      ]
    },
    {
      "cell_type": "code",
      "execution_count": null,
      "metadata": {
        "id": "R0NzcT5ohyBP"
      },
      "outputs": [],
      "source": [
        "tz_spatial_check = tz_spatial_check[tz_spatial_check['intergroup_spartial_dist']!=-1]\n",
        "tz_spatial_check = tz_spatial_check[tz_spatial_check['intergroup_tz_dist']!=-1]\n",
        "tz_spatial_check.sort_values(inplace=True, by = ['intergroup_spartial_dist', 'intergroup_tz_dist'], ascending=['False', 'True'])"
      ]
    },
    {
      "cell_type": "code",
      "execution_count": null,
      "metadata": {
        "id": "oyQZocyAjvtJ"
      },
      "outputs": [],
      "source": [
        "tz_spatial_check.drop_duplicates(inplace=True)\n",
        "tz_spatial_check.sort_values(by=['intergroup_spartial_dist', 'intergroup_tz_dist'], ascending=[False, True],inplace=True)\n",
        "tz_spatial_check = tz_spatial_check[tz_spatial_check['intergroup_spartial_dist']>0]\n",
        "tz_spatial_check = tz_spatial_check[tz_spatial_check['intergroup_tz_dist']==0]"
      ]
    },
    {
      "cell_type": "code",
      "execution_count": null,
      "metadata": {
        "colab": {
          "base_uri": "https://localhost:8080/",
          "height": 1000
        },
        "id": "qBgAMqcpreJm",
        "outputId": "6d2fd9a4-dc74-410f-a329-e7e367f89b59"
      },
      "outputs": [
        {
          "output_type": "execute_result",
          "data": {
            "text/html": [
              "\n",
              "  <div id=\"df-d66929fc-7692-4656-958b-c8d3f8c0ad76\">\n",
              "    <div class=\"colab-df-container\">\n",
              "      <div>\n",
              "<style scoped>\n",
              "    .dataframe tbody tr th:only-of-type {\n",
              "        vertical-align: middle;\n",
              "    }\n",
              "\n",
              "    .dataframe tbody tr th {\n",
              "        vertical-align: top;\n",
              "    }\n",
              "\n",
              "    .dataframe thead th {\n",
              "        text-align: right;\n",
              "    }\n",
              "</style>\n",
              "<table border=\"1\" class=\"dataframe\">\n",
              "  <thead>\n",
              "    <tr style=\"text-align: right;\">\n",
              "      <th></th>\n",
              "      <th>submission_gal_url</th>\n",
              "      <th>project_URL</th>\n",
              "      <th>github_links</th>\n",
              "      <th>participants</th>\n",
              "      <th>participants_num</th>\n",
              "      <th>build_with</th>\n",
              "      <th>repo_link</th>\n",
              "      <th>repo</th>\n",
              "      <th>submitted_to_link</th>\n",
              "      <th>submitted_to_name</th>\n",
              "      <th>submitted_to_hacks_num</th>\n",
              "      <th>likes</th>\n",
              "      <th>comments</th>\n",
              "      <th>URL</th>\n",
              "      <th>Criteria</th>\n",
              "      <th>schedule</th>\n",
              "      <th>hack_type</th>\n",
              "      <th>info</th>\n",
              "      <th>start_date_format</th>\n",
              "      <th>end_date_format</th>\n",
              "      <th>Prizes</th>\n",
              "      <th>prize_money</th>\n",
              "      <th>Id</th>\n",
              "      <th>Title</th>\n",
              "      <th>Location</th>\n",
              "      <th>start_date</th>\n",
              "      <th>end_date</th>\n",
              "      <th>year</th>\n",
              "      <th>themes</th>\n",
              "      <th>prize</th>\n",
              "      <th>registered_N</th>\n",
              "      <th>featured</th>\n",
              "      <th>organization_name</th>\n",
              "      <th>winners_announced</th>\n",
              "      <th>start_a_submission_url</th>\n",
              "      <th>hack_duration</th>\n",
              "      <th>intergroup_spartial_dist</th>\n",
              "      <th>intergroup_tz_dist</th>\n",
              "    </tr>\n",
              "  </thead>\n",
              "  <tbody>\n",
              "    <tr>\n",
              "      <th>78122</th>\n",
              "      <td>https://shellhacks2021.devpost.com/project-gal...</td>\n",
              "      <td>https://devpost.com/software/climate-conscious</td>\n",
              "      <td>https://github.com/NeonMeduza/climate_change_w...</td>\n",
              "      <td>https://devpost.com/dtl6560, https://devpost.c...</td>\n",
              "      <td>3.0</td>\n",
              "      <td>css3, figma, html5, javascript, photoshop</td>\n",
              "      <td>https://github.com/NeonMeduza/climate_change_w...</td>\n",
              "      <td>github.com</td>\n",
              "      <td>https://shellhacks2021.devpost.com/</td>\n",
              "      <td>ShellHacks</td>\n",
              "      <td>1.0</td>\n",
              "      <td>2</td>\n",
              "      <td>2</td>\n",
              "      <td>https://shellhacks2021.devpost.com/</td>\n",
              "      <td>Temporary</td>\n",
              "      <td>Submissions September 24 at 10:15pm EDT Septem...</td>\n",
              "      <td>Public</td>\n",
              "      <td>Sep 26, 2021, Online, Public, Upsilon Pi Epsil...</td>\n",
              "      <td>2021-09-24</td>\n",
              "      <td>2021-09-26</td>\n",
              "      <td>Best Overall - 1st Place, Best Overall - 2nd P...</td>\n",
              "      <td>$22,547</td>\n",
              "      <td>13725.0</td>\n",
              "      <td>ShellHacks</td>\n",
              "      <td>Online</td>\n",
              "      <td>Sep 24</td>\n",
              "      <td>26</td>\n",
              "      <td>2021.0</td>\n",
              "      <td>Beginner Friendly, Education, Open Ended</td>\n",
              "      <td>$19,000</td>\n",
              "      <td>775.0</td>\n",
              "      <td>False</td>\n",
              "      <td>Upsilon Pi Epsilon</td>\n",
              "      <td>True</td>\n",
              "      <td>https://shellhacks2021.devpost.com/challenges/...</td>\n",
              "      <td>2.0</td>\n",
              "      <td>3001.414286</td>\n",
              "      <td>0.0</td>\n",
              "    </tr>\n",
              "    <tr>\n",
              "      <th>2396</th>\n",
              "      <td>https://hack-the-normal-12125.devpost.com/proj...</td>\n",
              "      <td>https://devpost.com/software/borafya</td>\n",
              "      <td>NaN</td>\n",
              "      <td>https://devpost.com/hagin-bengo, https://devpo...</td>\n",
              "      <td>6.0</td>\n",
              "      <td>google-docs, googlemeet, googleslide, miro, sl...</td>\n",
              "      <td>Nan</td>\n",
              "      <td>Nan</td>\n",
              "      <td>https://hack-the-normal-12125.devpost.com/</td>\n",
              "      <td>Hack the Normal</td>\n",
              "      <td>1.0</td>\n",
              "      <td>4</td>\n",
              "      <td>4</td>\n",
              "      <td>https://hack-the-normal-12125.devpost.com/</td>\n",
              "      <td>Strategit Fit / Commercialization Potential, N...</td>\n",
              "      <td>Submissions March 06 at 7:00am EET March 08 at...</td>\n",
              "      <td>Public</td>\n",
              "      <td>Mar 30, 2021, Sub Saharan Africa, Public, atöl...</td>\n",
              "      <td>2021-03-06</td>\n",
              "      <td>2021-03-08</td>\n",
              "      <td>Prize for the 1st team              (3), Prize...</td>\n",
              "      <td>$30,000</td>\n",
              "      <td>12125.0</td>\n",
              "      <td>Hack the Normal</td>\n",
              "      <td>Offline</td>\n",
              "      <td>Mar 06</td>\n",
              "      <td>08</td>\n",
              "      <td>2021.0</td>\n",
              "      <td>Health, Social Good</td>\n",
              "      <td>$19,000</td>\n",
              "      <td>122.0</td>\n",
              "      <td>False</td>\n",
              "      <td>atölye</td>\n",
              "      <td>False</td>\n",
              "      <td>https://hack-the-normal-12125.devpost.com/chal...</td>\n",
              "      <td>2.0</td>\n",
              "      <td>2864.680165</td>\n",
              "      <td>0.0</td>\n",
              "    </tr>\n",
              "    <tr>\n",
              "      <th>38759</th>\n",
              "      <td>https://makers-hustle-harder-boston.devpost.co...</td>\n",
              "      <td>https://devpost.com/software/sensorial</td>\n",
              "      <td>NaN</td>\n",
              "      <td>https://devpost.com/AminKarimpour, https://dev...</td>\n",
              "      <td>4.0</td>\n",
              "      <td>jason</td>\n",
              "      <td>Nan</td>\n",
              "      <td>Nan</td>\n",
              "      <td>https://makers-hustle-harder-boston.devpost.com/</td>\n",
              "      <td>Makers Hustle Harder Tour : Boston</td>\n",
              "      <td>1.0</td>\n",
              "      <td>0</td>\n",
              "      <td>0</td>\n",
              "      <td>https://makers-hustle-harder-boston.devpost.com/</td>\n",
              "      <td>Usefulness/Impactfulness, Creativity, Vehicle ...</td>\n",
              "      <td>Submissions September 26 at 6:00pm EDT Septemb...</td>\n",
              "      <td>Public</td>\n",
              "      <td>Sep 26 – 30, 2017, Artisan's Asylum, Public</td>\n",
              "      <td>2017-09-26</td>\n",
              "      <td>2017-09-30</td>\n",
              "      <td>1st Place Prize, 2nd Place Prize, 3rd Place Prize</td>\n",
              "      <td>$350</td>\n",
              "      <td>5164.0</td>\n",
              "      <td>Makers Hustle Harder Tour : Boston</td>\n",
              "      <td>Offline</td>\n",
              "      <td>Sep 26</td>\n",
              "      <td>30</td>\n",
              "      <td>2017.0</td>\n",
              "      <td>NaN</td>\n",
              "      <td>$19,000</td>\n",
              "      <td>41.0</td>\n",
              "      <td>False</td>\n",
              "      <td>NaN</td>\n",
              "      <td>True</td>\n",
              "      <td>https://makers-hustle-harder-boston.devpost.co...</td>\n",
              "      <td>4.0</td>\n",
              "      <td>2802.332618</td>\n",
              "      <td>0.0</td>\n",
              "    </tr>\n",
              "    <tr>\n",
              "      <th>72517</th>\n",
              "      <td>https://hackthenorth2021.devpost.com/project-g...</td>\n",
              "      <td>https://devpost.com/software/event-assignment-...</td>\n",
              "      <td>https://github.com/Drew138/notes_website</td>\n",
              "      <td>https://devpost.com/Drew138, https://devpost.c...</td>\n",
              "      <td>3.0</td>\n",
              "      <td>css, django, html, javascript, react</td>\n",
              "      <td>https://github.com/Drew138/notes_website</td>\n",
              "      <td>github.com</td>\n",
              "      <td>https://hackthenorth2021.devpost.com/</td>\n",
              "      <td>Hack the North 2021</td>\n",
              "      <td>1.0</td>\n",
              "      <td>1</td>\n",
              "      <td>1</td>\n",
              "      <td>https://hackthenorth2021.devpost.com/</td>\n",
              "      <td>Wow factor, Technical Difficulty, Originality,...</td>\n",
              "      <td>Submissions September 17 at 11:00pm EDT Septem...</td>\n",
              "      <td>Public</td>\n",
              "      <td>Sep 17 – 19, 2021, Online, Public, Techyon, Be...</td>\n",
              "      <td>2021-09-17</td>\n",
              "      <td>2021-09-19</td>\n",
              "      <td>Hack the North 2021 Finalists              (17...</td>\n",
              "      <td>$30,726</td>\n",
              "      <td>8483.0</td>\n",
              "      <td>Hack the North 2021</td>\n",
              "      <td>Online</td>\n",
              "      <td>Sep 17</td>\n",
              "      <td>19</td>\n",
              "      <td>2021.0</td>\n",
              "      <td>Beginner Friendly, Open Ended</td>\n",
              "      <td>$19,000</td>\n",
              "      <td>1658.0</td>\n",
              "      <td>False</td>\n",
              "      <td>Techyon</td>\n",
              "      <td>True</td>\n",
              "      <td>https://hackthenorth2021.devpost.com/challenge...</td>\n",
              "      <td>2.0</td>\n",
              "      <td>2799.199616</td>\n",
              "      <td>0.0</td>\n",
              "    </tr>\n",
              "    <tr>\n",
              "      <th>57153</th>\n",
              "      <td>https://robohacks-6377.devpost.com/project-gal...</td>\n",
              "      <td>https://devpost.com/software/avatar-robot</td>\n",
              "      <td>https://github.com/kakcura/AvatarBot</td>\n",
              "      <td>https://devpost.com/bounrajbandittkoumtakoun, ...</td>\n",
              "      <td>3.0</td>\n",
              "      <td>flask, javascript, python, raspberry-pi</td>\n",
              "      <td>https://github.com/kakcura/AvatarBot</td>\n",
              "      <td>github.com</td>\n",
              "      <td>https://robohacks-6377.devpost.com/</td>\n",
              "      <td>RoboHacks</td>\n",
              "      <td>1.0</td>\n",
              "      <td>0</td>\n",
              "      <td>0</td>\n",
              "      <td>https://robohacks-6377.devpost.com/</td>\n",
              "      <td>Relevance to Service Robotics, Functionality, ...</td>\n",
              "      <td>Submissions March 31 at 12:00am EDT March 31 a...</td>\n",
              "      <td>Public</td>\n",
              "      <td>Mar 31, 2018, Notman House - Montreal Canada, ...</td>\n",
              "      <td>2018-03-31</td>\n",
              "      <td>2018-03-31</td>\n",
              "      <td>First Place - Myo Armband / Member, Second Pla...</td>\n",
              "      <td>$1,750</td>\n",
              "      <td>6377.0</td>\n",
              "      <td>RoboHacks</td>\n",
              "      <td>Offline</td>\n",
              "      <td>NaN</td>\n",
              "      <td>Mar 31</td>\n",
              "      <td>2018.0</td>\n",
              "      <td>NaN</td>\n",
              "      <td>$19,000</td>\n",
              "      <td>34.0</td>\n",
              "      <td>False</td>\n",
              "      <td>NaN</td>\n",
              "      <td>True</td>\n",
              "      <td>https://robohacks-6377.devpost.com/challenges/...</td>\n",
              "      <td>0.0</td>\n",
              "      <td>2603.715899</td>\n",
              "      <td>0.0</td>\n",
              "    </tr>\n",
              "    <tr>\n",
              "      <th>...</th>\n",
              "      <td>...</td>\n",
              "      <td>...</td>\n",
              "      <td>...</td>\n",
              "      <td>...</td>\n",
              "      <td>...</td>\n",
              "      <td>...</td>\n",
              "      <td>...</td>\n",
              "      <td>...</td>\n",
              "      <td>...</td>\n",
              "      <td>...</td>\n",
              "      <td>...</td>\n",
              "      <td>...</td>\n",
              "      <td>...</td>\n",
              "      <td>...</td>\n",
              "      <td>...</td>\n",
              "      <td>...</td>\n",
              "      <td>...</td>\n",
              "      <td>...</td>\n",
              "      <td>...</td>\n",
              "      <td>...</td>\n",
              "      <td>...</td>\n",
              "      <td>...</td>\n",
              "      <td>...</td>\n",
              "      <td>...</td>\n",
              "      <td>...</td>\n",
              "      <td>...</td>\n",
              "      <td>...</td>\n",
              "      <td>...</td>\n",
              "      <td>...</td>\n",
              "      <td>...</td>\n",
              "      <td>...</td>\n",
              "      <td>...</td>\n",
              "      <td>...</td>\n",
              "      <td>...</td>\n",
              "      <td>...</td>\n",
              "      <td>...</td>\n",
              "      <td>...</td>\n",
              "      <td>...</td>\n",
              "    </tr>\n",
              "    <tr>\n",
              "      <th>41263</th>\n",
              "      <td>https://edtech-asia-hackathon.devpost.com/proj...</td>\n",
              "      <td>https://devpost.com/software/virtualbook</td>\n",
              "      <td>https://github.com/VirtualBook/VirtualBook</td>\n",
              "      <td>https://devpost.com/NghiaTran, https://devpost...</td>\n",
              "      <td>4.0</td>\n",
              "      <td>go, objective-c, oculus, platform, unity, web</td>\n",
              "      <td>https://github.com/VirtualBook/VirtualBook</td>\n",
              "      <td>github.com</td>\n",
              "      <td>https://edtech-asia-hackathon.devpost.com/</td>\n",
              "      <td>EdTech Asia HACKATHON</td>\n",
              "      <td>1.0</td>\n",
              "      <td>4</td>\n",
              "      <td>4</td>\n",
              "      <td>https://edtech-asia-hackathon.devpost.com/</td>\n",
              "      <td>Mức độ hoàn thiện của sản phẩm, Tính sáng tạo,...</td>\n",
              "      <td>Submissions April 09 at 9:45am ICT April 10 at...</td>\n",
              "      <td>Public</td>\n",
              "      <td>Apr 9 – 10, 2016, UP Co-working Space, Tầng 8 ...</td>\n",
              "      <td>2016-04-08</td>\n",
              "      <td>2016-04-10</td>\n",
              "      <td>Trọn gói chuyến đi tham dự hội thảo Edtech Asi...</td>\n",
              "      <td>$90,000</td>\n",
              "      <td>3724.0</td>\n",
              "      <td>EdTech Asia HACKATHON</td>\n",
              "      <td>Offline</td>\n",
              "      <td>Apr 08</td>\n",
              "      <td>10</td>\n",
              "      <td>2016.0</td>\n",
              "      <td>NaN</td>\n",
              "      <td>$19,000</td>\n",
              "      <td>54.0</td>\n",
              "      <td>False</td>\n",
              "      <td>NaN</td>\n",
              "      <td>True</td>\n",
              "      <td>https://edtech-asia-hackathon.devpost.com/chal...</td>\n",
              "      <td>2.0</td>\n",
              "      <td>0.402099</td>\n",
              "      <td>0.0</td>\n",
              "    </tr>\n",
              "    <tr>\n",
              "      <th>39082</th>\n",
              "      <td>https://localhackdayiii.devpost.com/project-ga...</td>\n",
              "      <td>https://devpost.com/software/random-maze-gener...</td>\n",
              "      <td>https://github.com/GoldenAurora/randomMazeGene...</td>\n",
              "      <td>https://devpost.com/Dish29, https://devpost.co...</td>\n",
              "      <td>4.0</td>\n",
              "      <td>java</td>\n",
              "      <td>https://github.com/GoldenAurora/randomMazeGene...</td>\n",
              "      <td>github.com</td>\n",
              "      <td>https://localhackdayiii.devpost.com/</td>\n",
              "      <td>Local Hack Day III</td>\n",
              "      <td>1.0</td>\n",
              "      <td>0</td>\n",
              "      <td>0</td>\n",
              "      <td>https://localhackdayiii.devpost.com/</td>\n",
              "      <td>Fun</td>\n",
              "      <td>Submissions December 02 at 12:00am EST Decembe...</td>\n",
              "      <td>Public</td>\n",
              "      <td>Dec 9, 2016, Earth, Public</td>\n",
              "      <td>2016-12-02</td>\n",
              "      <td>2016-12-04</td>\n",
              "      <td>No Prizes</td>\n",
              "      <td>no money prize</td>\n",
              "      <td>4505.0</td>\n",
              "      <td>Local Hack Day III</td>\n",
              "      <td>Offline</td>\n",
              "      <td>Dec 02</td>\n",
              "      <td>04</td>\n",
              "      <td>2016.0</td>\n",
              "      <td>NaN</td>\n",
              "      <td>$19,000</td>\n",
              "      <td>339.0</td>\n",
              "      <td>False</td>\n",
              "      <td>NaN</td>\n",
              "      <td>False</td>\n",
              "      <td>https://localhackdayiii.devpost.com/challenges...</td>\n",
              "      <td>2.0</td>\n",
              "      <td>0.373470</td>\n",
              "      <td>0.0</td>\n",
              "    </tr>\n",
              "    <tr>\n",
              "      <th>13936</th>\n",
              "      <td>https://hackathonvietnam2014hcmc.devpost.com/p...</td>\n",
              "      <td>https://devpost.com/software/game-music-arena</td>\n",
              "      <td>NaN</td>\n",
              "      <td>https://devpost.com/PhamAn, https://devpost.co...</td>\n",
              "      <td>4.0</td>\n",
              "      <td>web, windows-phone</td>\n",
              "      <td>Nan</td>\n",
              "      <td>Nan</td>\n",
              "      <td>https://hackathonvietnam2014hcmc.devpost.com/</td>\n",
              "      <td>Hackathon Vietnam 2014 - Ho Chi Minh City</td>\n",
              "      <td>1.0</td>\n",
              "      <td>0</td>\n",
              "      <td>0</td>\n",
              "      <td>https://hackathonvietnam2014hcmc.devpost.com/</td>\n",
              "      <td>Product Potential, Innovation, Feasibility, Pr...</td>\n",
              "      <td>Submissions August 01 at 8:00am ICT August 02 ...</td>\n",
              "      <td>Public</td>\n",
              "      <td>Aug 1 – 2, 2014, Ho Chi Minh City, Vietnam, Pu...</td>\n",
              "      <td>2014-07-31</td>\n",
              "      <td>2014-08-02</td>\n",
              "      <td>First Place - HCMC, Second Prize, Third Prize</td>\n",
              "      <td>$12,750</td>\n",
              "      <td>1245.0</td>\n",
              "      <td>Hackathon Vietnam 2014 - Ho Chi Minh City</td>\n",
              "      <td>Offline</td>\n",
              "      <td>Jul 31</td>\n",
              "      <td>Aug 02</td>\n",
              "      <td>2014.0</td>\n",
              "      <td>NaN</td>\n",
              "      <td>$19,000</td>\n",
              "      <td>215.0</td>\n",
              "      <td>False</td>\n",
              "      <td>NaN</td>\n",
              "      <td>True</td>\n",
              "      <td>https://hackathonvietnam2014hcmc.devpost.com/c...</td>\n",
              "      <td>2.0</td>\n",
              "      <td>0.301575</td>\n",
              "      <td>0.0</td>\n",
              "    </tr>\n",
              "    <tr>\n",
              "      <th>38927</th>\n",
              "      <td>https://shecodes-hackathon2019.devpost.com/pro...</td>\n",
              "      <td>https://devpost.com/software/sogreen-hmtu80</td>\n",
              "      <td>NaN</td>\n",
              "      <td>https://devpost.com/cheevn, https://devpost.co...</td>\n",
              "      <td>4.0</td>\n",
              "      <td>NaN</td>\n",
              "      <td>https://drive.google.com/file/d/13f4_VSIeUo4h4...</td>\n",
              "      <td>drive.google.com</td>\n",
              "      <td>https://shecodes-hackathon2019.devpost.com/</td>\n",
              "      <td>SheCodes Hackathon 2019</td>\n",
              "      <td>1.0</td>\n",
              "      <td>1</td>\n",
              "      <td>0</td>\n",
              "      <td>https://shecodes-hackathon2019.devpost.com/</td>\n",
              "      <td>Reference To Track, Creativity, Technical, Pot...</td>\n",
              "      <td>Submissions July 13 at 10:00am ICT July 14 at ...</td>\n",
              "      <td>Public</td>\n",
              "      <td>Jul 13 – 14, 2019, UP Co-working Space, Public</td>\n",
              "      <td>2019-07-12</td>\n",
              "      <td>2019-07-14</td>\n",
              "      <td>Track Sức Khỏe, Track Bạo lực học đường, Giải ...</td>\n",
              "      <td>$3,775</td>\n",
              "      <td>8302.0</td>\n",
              "      <td>SheCodes Hackathon 2019</td>\n",
              "      <td>Offline</td>\n",
              "      <td>Jul 12</td>\n",
              "      <td>14</td>\n",
              "      <td>2019.0</td>\n",
              "      <td>NaN</td>\n",
              "      <td>$19,000</td>\n",
              "      <td>42.0</td>\n",
              "      <td>False</td>\n",
              "      <td>NaN</td>\n",
              "      <td>True</td>\n",
              "      <td>https://shecodes-hackathon2019.devpost.com/cha...</td>\n",
              "      <td>2.0</td>\n",
              "      <td>0.268418</td>\n",
              "      <td>0.0</td>\n",
              "    </tr>\n",
              "    <tr>\n",
              "      <th>2643</th>\n",
              "      <td>https://uhack-2019.devpost.com/project-gallery</td>\n",
              "      <td>https://devpost.com/software/parkwise</td>\n",
              "      <td>https://github.com/npkhanhh/ParkWise</td>\n",
              "      <td>https://devpost.com/YearChee, https://devpost....</td>\n",
              "      <td>6.0</td>\n",
              "      <td>express.js, google-maps, mongodb, react-native</td>\n",
              "      <td>https://github.com/npkhanhh/ParkWise</td>\n",
              "      <td>github.com</td>\n",
              "      <td>https://uhack-2019.devpost.com/</td>\n",
              "      <td>UHack 2019</td>\n",
              "      <td>1.0</td>\n",
              "      <td>6</td>\n",
              "      <td>2</td>\n",
              "      <td>https://uhack-2019.devpost.com/</td>\n",
              "      <td>Website</td>\n",
              "      <td>Submissions September 06 at 5:00pm AEST Septem...</td>\n",
              "      <td>Public</td>\n",
              "      <td>Sep 8, 2019, University of Tasmania, Public</td>\n",
              "      <td>2019-09-06</td>\n",
              "      <td>2019-09-07</td>\n",
              "      <td>UHack 2019</td>\n",
              "      <td>$24,000</td>\n",
              "      <td>7518.0</td>\n",
              "      <td>UHack 2019</td>\n",
              "      <td>Offline</td>\n",
              "      <td>Sep 06</td>\n",
              "      <td>07</td>\n",
              "      <td>2019.0</td>\n",
              "      <td>NaN</td>\n",
              "      <td>$19,000</td>\n",
              "      <td>182.0</td>\n",
              "      <td>False</td>\n",
              "      <td>NaN</td>\n",
              "      <td>False</td>\n",
              "      <td>https://uhack-2019.devpost.com/challenges/star...</td>\n",
              "      <td>1.0</td>\n",
              "      <td>0.255065</td>\n",
              "      <td>0.0</td>\n",
              "    </tr>\n",
              "  </tbody>\n",
              "</table>\n",
              "<p>23546 rows × 38 columns</p>\n",
              "</div>\n",
              "      <button class=\"colab-df-convert\" onclick=\"convertToInteractive('df-d66929fc-7692-4656-958b-c8d3f8c0ad76')\"\n",
              "              title=\"Convert this dataframe to an interactive table.\"\n",
              "              style=\"display:none;\">\n",
              "        \n",
              "  <svg xmlns=\"http://www.w3.org/2000/svg\" height=\"24px\"viewBox=\"0 0 24 24\"\n",
              "       width=\"24px\">\n",
              "    <path d=\"M0 0h24v24H0V0z\" fill=\"none\"/>\n",
              "    <path d=\"M18.56 5.44l.94 2.06.94-2.06 2.06-.94-2.06-.94-.94-2.06-.94 2.06-2.06.94zm-11 1L8.5 8.5l.94-2.06 2.06-.94-2.06-.94L8.5 2.5l-.94 2.06-2.06.94zm10 10l.94 2.06.94-2.06 2.06-.94-2.06-.94-.94-2.06-.94 2.06-2.06.94z\"/><path d=\"M17.41 7.96l-1.37-1.37c-.4-.4-.92-.59-1.43-.59-.52 0-1.04.2-1.43.59L10.3 9.45l-7.72 7.72c-.78.78-.78 2.05 0 2.83L4 21.41c.39.39.9.59 1.41.59.51 0 1.02-.2 1.41-.59l7.78-7.78 2.81-2.81c.8-.78.8-2.07 0-2.86zM5.41 20L4 18.59l7.72-7.72 1.47 1.35L5.41 20z\"/>\n",
              "  </svg>\n",
              "      </button>\n",
              "      \n",
              "  <style>\n",
              "    .colab-df-container {\n",
              "      display:flex;\n",
              "      flex-wrap:wrap;\n",
              "      gap: 12px;\n",
              "    }\n",
              "\n",
              "    .colab-df-convert {\n",
              "      background-color: #E8F0FE;\n",
              "      border: none;\n",
              "      border-radius: 50%;\n",
              "      cursor: pointer;\n",
              "      display: none;\n",
              "      fill: #1967D2;\n",
              "      height: 32px;\n",
              "      padding: 0 0 0 0;\n",
              "      width: 32px;\n",
              "    }\n",
              "\n",
              "    .colab-df-convert:hover {\n",
              "      background-color: #E2EBFA;\n",
              "      box-shadow: 0px 1px 2px rgba(60, 64, 67, 0.3), 0px 1px 3px 1px rgba(60, 64, 67, 0.15);\n",
              "      fill: #174EA6;\n",
              "    }\n",
              "\n",
              "    [theme=dark] .colab-df-convert {\n",
              "      background-color: #3B4455;\n",
              "      fill: #D2E3FC;\n",
              "    }\n",
              "\n",
              "    [theme=dark] .colab-df-convert:hover {\n",
              "      background-color: #434B5C;\n",
              "      box-shadow: 0px 1px 3px 1px rgba(0, 0, 0, 0.15);\n",
              "      filter: drop-shadow(0px 1px 2px rgba(0, 0, 0, 0.3));\n",
              "      fill: #FFFFFF;\n",
              "    }\n",
              "  </style>\n",
              "\n",
              "      <script>\n",
              "        const buttonEl =\n",
              "          document.querySelector('#df-d66929fc-7692-4656-958b-c8d3f8c0ad76 button.colab-df-convert');\n",
              "        buttonEl.style.display =\n",
              "          google.colab.kernel.accessAllowed ? 'block' : 'none';\n",
              "\n",
              "        async function convertToInteractive(key) {\n",
              "          const element = document.querySelector('#df-d66929fc-7692-4656-958b-c8d3f8c0ad76');\n",
              "          const dataTable =\n",
              "            await google.colab.kernel.invokeFunction('convertToInteractive',\n",
              "                                                     [key], {});\n",
              "          if (!dataTable) return;\n",
              "\n",
              "          const docLinkHtml = 'Like what you see? Visit the ' +\n",
              "            '<a target=\"_blank\" href=https://colab.research.google.com/notebooks/data_table.ipynb>data table notebook</a>'\n",
              "            + ' to learn more about interactive tables.';\n",
              "          element.innerHTML = '';\n",
              "          dataTable['output_type'] = 'display_data';\n",
              "          await google.colab.output.renderOutput(dataTable, element);\n",
              "          const docLink = document.createElement('div');\n",
              "          docLink.innerHTML = docLinkHtml;\n",
              "          element.appendChild(docLink);\n",
              "        }\n",
              "      </script>\n",
              "    </div>\n",
              "  </div>\n",
              "  "
            ],
            "text/plain": [
              "                                      submission_gal_url  ... intergroup_tz_dist\n",
              "78122  https://shellhacks2021.devpost.com/project-gal...  ...                0.0\n",
              "2396   https://hack-the-normal-12125.devpost.com/proj...  ...                0.0\n",
              "38759  https://makers-hustle-harder-boston.devpost.co...  ...                0.0\n",
              "72517  https://hackthenorth2021.devpost.com/project-g...  ...                0.0\n",
              "57153  https://robohacks-6377.devpost.com/project-gal...  ...                0.0\n",
              "...                                                  ...  ...                ...\n",
              "41263  https://edtech-asia-hackathon.devpost.com/proj...  ...                0.0\n",
              "39082  https://localhackdayiii.devpost.com/project-ga...  ...                0.0\n",
              "13936  https://hackathonvietnam2014hcmc.devpost.com/p...  ...                0.0\n",
              "38927  https://shecodes-hackathon2019.devpost.com/pro...  ...                0.0\n",
              "2643      https://uhack-2019.devpost.com/project-gallery  ...                0.0\n",
              "\n",
              "[23546 rows x 38 columns]"
            ]
          },
          "metadata": {},
          "execution_count": 48
        }
      ],
      "source": [
        "#we can see that there are a lot of situations when there is quite big distance between group members BUT they are located in the same time zone, which makes it easier to communicate\n",
        "tz_spatial_check"
      ]
    },
    {
      "cell_type": "code",
      "execution_count": null,
      "metadata": {
        "colab": {
          "base_uri": "https://localhost:8080/",
          "height": 1000
        },
        "id": "S1pMm1Kao1qv",
        "outputId": "628d5a55-4b87-4945-fa5a-43615630d62e"
      },
      "outputs": [
        {
          "output_type": "execute_result",
          "data": {
            "text/html": [
              "\n",
              "  <div id=\"df-087d61c6-a0df-4cc5-b298-46971f2809ff\">\n",
              "    <div class=\"colab-df-container\">\n",
              "      <div>\n",
              "<style scoped>\n",
              "    .dataframe tbody tr th:only-of-type {\n",
              "        vertical-align: middle;\n",
              "    }\n",
              "\n",
              "    .dataframe tbody tr th {\n",
              "        vertical-align: top;\n",
              "    }\n",
              "\n",
              "    .dataframe thead th {\n",
              "        text-align: right;\n",
              "    }\n",
              "</style>\n",
              "<table border=\"1\" class=\"dataframe\">\n",
              "  <thead>\n",
              "    <tr style=\"text-align: right;\">\n",
              "      <th></th>\n",
              "      <th>submission_gal_url</th>\n",
              "      <th>project_URL</th>\n",
              "      <th>github_links</th>\n",
              "      <th>participants</th>\n",
              "      <th>participants_num</th>\n",
              "      <th>build_with</th>\n",
              "      <th>repo_link</th>\n",
              "      <th>repo</th>\n",
              "      <th>submitted_to_link</th>\n",
              "      <th>submitted_to_name</th>\n",
              "      <th>submitted_to_hacks_num</th>\n",
              "      <th>likes</th>\n",
              "      <th>comments</th>\n",
              "      <th>URL</th>\n",
              "      <th>Criteria</th>\n",
              "      <th>schedule</th>\n",
              "      <th>hack_type</th>\n",
              "      <th>info</th>\n",
              "      <th>start_date_format</th>\n",
              "      <th>end_date_format</th>\n",
              "      <th>Prizes</th>\n",
              "      <th>prize_money</th>\n",
              "      <th>Id</th>\n",
              "      <th>Title</th>\n",
              "      <th>Location</th>\n",
              "      <th>start_date</th>\n",
              "      <th>end_date</th>\n",
              "      <th>year</th>\n",
              "      <th>themes</th>\n",
              "      <th>prize</th>\n",
              "      <th>registered_N</th>\n",
              "      <th>featured</th>\n",
              "      <th>organization_name</th>\n",
              "      <th>winners_announced</th>\n",
              "      <th>start_a_submission_url</th>\n",
              "      <th>hack_duration</th>\n",
              "      <th>intergroup_spartial_dist</th>\n",
              "      <th>intergroup_tz_dist</th>\n",
              "    </tr>\n",
              "  </thead>\n",
              "  <tbody>\n",
              "    <tr>\n",
              "      <th>76997</th>\n",
              "      <td>https://theglobalhack.devpost.com/project-gallery</td>\n",
              "      <td>https://devpost.com/software/artfinder</td>\n",
              "      <td>NaN</td>\n",
              "      <td>https://devpost.com/AnotherOctopus, https://de...</td>\n",
              "      <td>3.0</td>\n",
              "      <td>amazon-web-services, javascript, react</td>\n",
              "      <td>Nan</td>\n",
              "      <td>Nan</td>\n",
              "      <td>https://theglobalhack.devpost.com/</td>\n",
              "      <td>The Global Hack</td>\n",
              "      <td>1.0</td>\n",
              "      <td>1</td>\n",
              "      <td>0</td>\n",
              "      <td>https://theglobalhack.devpost.com/</td>\n",
              "      <td>Potential impact of the project, Technical exe...</td>\n",
              "      <td>Submissions April 03 at 5:30pm UTC April 09 at...</td>\n",
              "      <td>Public</td>\n",
              "      <td>Apr 12, 2020, Online, Public, COVID-19</td>\n",
              "      <td>2020-04-03</td>\n",
              "      <td>2020-04-09</td>\n",
              "      <td>Overall Winner</td>\n",
              "      <td>no money prize</td>\n",
              "      <td>9854.0</td>\n",
              "      <td>The Global Hack</td>\n",
              "      <td>Online</td>\n",
              "      <td>Apr 03</td>\n",
              "      <td>09</td>\n",
              "      <td>2020.0</td>\n",
              "      <td>COVID-19</td>\n",
              "      <td>€19,000</td>\n",
              "      <td>6076.0</td>\n",
              "      <td>False</td>\n",
              "      <td>NaN</td>\n",
              "      <td>False</td>\n",
              "      <td>https://theglobalhack.devpost.com/challenges/s...</td>\n",
              "      <td>6.0</td>\n",
              "      <td>7005.422655</td>\n",
              "      <td>14.0</td>\n",
              "    </tr>\n",
              "    <tr>\n",
              "      <th>76551</th>\n",
              "      <td>https://theglobalhack.devpost.com/project-gallery</td>\n",
              "      <td>https://devpost.com/software/yes-i-did-get-tre...</td>\n",
              "      <td>NaN</td>\n",
              "      <td>https://devpost.com/AnotherOctopus, https://de...</td>\n",
              "      <td>3.0</td>\n",
              "      <td>django, python, react, react-native</td>\n",
              "      <td>Nan</td>\n",
              "      <td>Nan</td>\n",
              "      <td>https://theglobalhack.devpost.com/</td>\n",
              "      <td>The Global Hack</td>\n",
              "      <td>1.0</td>\n",
              "      <td>1</td>\n",
              "      <td>1</td>\n",
              "      <td>https://theglobalhack.devpost.com/</td>\n",
              "      <td>Potential impact of the project, Technical exe...</td>\n",
              "      <td>Submissions April 03 at 5:30pm UTC April 09 at...</td>\n",
              "      <td>Public</td>\n",
              "      <td>Apr 12, 2020, Online, Public, COVID-19</td>\n",
              "      <td>2020-04-03</td>\n",
              "      <td>2020-04-09</td>\n",
              "      <td>Overall Winner</td>\n",
              "      <td>no money prize</td>\n",
              "      <td>9854.0</td>\n",
              "      <td>The Global Hack</td>\n",
              "      <td>Online</td>\n",
              "      <td>Apr 03</td>\n",
              "      <td>09</td>\n",
              "      <td>2020.0</td>\n",
              "      <td>COVID-19</td>\n",
              "      <td>€19,000</td>\n",
              "      <td>6076.0</td>\n",
              "      <td>False</td>\n",
              "      <td>NaN</td>\n",
              "      <td>False</td>\n",
              "      <td>https://theglobalhack.devpost.com/challenges/s...</td>\n",
              "      <td>6.0</td>\n",
              "      <td>7005.422655</td>\n",
              "      <td>14.0</td>\n",
              "    </tr>\n",
              "    <tr>\n",
              "      <th>51002</th>\n",
              "      <td>https://hackcc14.devpost.com/project-gallery</td>\n",
              "      <td>https://devpost.com/software/w-p-m-test-versal...</td>\n",
              "      <td>https://github.com/Neecolaa/wpm-gadget</td>\n",
              "      <td>https://devpost.com/AllenDClark, https://devpo...</td>\n",
              "      <td>3.0</td>\n",
              "      <td>NaN</td>\n",
              "      <td>https://github.com/Neecolaa/wpm-gadget</td>\n",
              "      <td>github.com</td>\n",
              "      <td>https://hackcc14.devpost.com/</td>\n",
              "      <td>HackCC</td>\n",
              "      <td>1.0</td>\n",
              "      <td>0</td>\n",
              "      <td>0</td>\n",
              "      <td>https://hackcc14.devpost.com/</td>\n",
              "      <td>Usefulness, Originality, Technical Difficulty,...</td>\n",
              "      <td>Submissions November 09 at 8:15am PST November...</td>\n",
              "      <td>Public</td>\n",
              "      <td>Nov 9, 2014, Santa Monica, California, USA, Pu...</td>\n",
              "      <td>2014-11-09</td>\n",
              "      <td>2014-11-09</td>\n",
              "      <td>1st Place, Best Use of the Versal API, 2nd Pla...</td>\n",
              "      <td>no money prize</td>\n",
              "      <td>1367.0</td>\n",
              "      <td>HackCC</td>\n",
              "      <td>Offline</td>\n",
              "      <td>NaN</td>\n",
              "      <td>Nov 09</td>\n",
              "      <td>2014.0</td>\n",
              "      <td>NaN</td>\n",
              "      <td>$19,000</td>\n",
              "      <td>58.0</td>\n",
              "      <td>False</td>\n",
              "      <td>NaN</td>\n",
              "      <td>True</td>\n",
              "      <td>https://hackcc14.devpost.com/challenges/start_...</td>\n",
              "      <td>0.0</td>\n",
              "      <td>7439.436629</td>\n",
              "      <td>14.0</td>\n",
              "    </tr>\n",
              "    <tr>\n",
              "      <th>77499</th>\n",
              "      <td>https://salesforcehackathon.devpost.com/projec...</td>\n",
              "      <td>https://devpost.com/software/boon</td>\n",
              "      <td>NaN</td>\n",
              "      <td>https://devpost.com/TheFruityKiwi, https://dev...</td>\n",
              "      <td>3.0</td>\n",
              "      <td>android, chatter, forcejs, heroku, invision, i...</td>\n",
              "      <td>http://invis.io/V71I9J7K2</td>\n",
              "      <td>invis.io</td>\n",
              "      <td>https://salesforcehackathon.devpost.com/</td>\n",
              "      <td>Salesforce $1 Million Hackathon 2014</td>\n",
              "      <td>1.0</td>\n",
              "      <td>0</td>\n",
              "      <td>0</td>\n",
              "      <td>https://salesforcehackathon.devpost.com/</td>\n",
              "      <td>Innovation, Business Potential, User Experienc...</td>\n",
              "      <td>Submissions October 10 at 6:30pm PDT October 1...</td>\n",
              "      <td>Public</td>\n",
              "      <td>Oct 10 – 12, 2014, San Francisco, CA, USA, Public</td>\n",
              "      <td>2014-10-10</td>\n",
              "      <td>2014-10-12</td>\n",
              "      <td>Grand Prize, Force.com Category - First Place,...</td>\n",
              "      <td>$995,000</td>\n",
              "      <td>1440.0</td>\n",
              "      <td>Salesforce $1 Million Hackathon 2014</td>\n",
              "      <td>Offline</td>\n",
              "      <td>Oct 10</td>\n",
              "      <td>12</td>\n",
              "      <td>2014.0</td>\n",
              "      <td>NaN</td>\n",
              "      <td>$19,000</td>\n",
              "      <td>724.0</td>\n",
              "      <td>False</td>\n",
              "      <td>NaN</td>\n",
              "      <td>True</td>\n",
              "      <td>https://salesforcehackathon.devpost.com/challe...</td>\n",
              "      <td>2.0</td>\n",
              "      <td>7005.422655</td>\n",
              "      <td>14.0</td>\n",
              "    </tr>\n",
              "    <tr>\n",
              "      <th>54115</th>\n",
              "      <td>https://ethsanfrancisco.devpost.com/project-ga...</td>\n",
              "      <td>https://devpost.com/software/cao</td>\n",
              "      <td>https://github.com/PaulRBerg/cao</td>\n",
              "      <td>https://devpost.com/PaulRBerg, https://devpost...</td>\n",
              "      <td>3.0</td>\n",
              "      <td>8x-protocol, coinbase-wallet, react, set-proto...</td>\n",
              "      <td>https://github.com/PaulRBerg/cao</td>\n",
              "      <td>github.com</td>\n",
              "      <td>https://ethsanfrancisco.devpost.com/</td>\n",
              "      <td>ETH San Francisco</td>\n",
              "      <td>1.0</td>\n",
              "      <td>1</td>\n",
              "      <td>1</td>\n",
              "      <td>https://ethsanfrancisco.devpost.com/</td>\n",
              "      <td>Technical, Original, Ambitious, Design and Use...</td>\n",
              "      <td>Submissions October 05 at 6:00pm PDT October 0...</td>\n",
              "      <td>Public</td>\n",
              "      <td>Oct 5 – 7, 2018, Palace of Fine Arts, Public</td>\n",
              "      <td>2018-10-05</td>\n",
              "      <td>2018-10-07</td>\n",
              "      <td>Finalist              (10), Runner Up         ...</td>\n",
              "      <td>$183,500</td>\n",
              "      <td>6943.0</td>\n",
              "      <td>ETH San Francisco</td>\n",
              "      <td>Offline</td>\n",
              "      <td>Oct 05</td>\n",
              "      <td>07</td>\n",
              "      <td>2018.0</td>\n",
              "      <td>NaN</td>\n",
              "      <td>$19,000</td>\n",
              "      <td>380.0</td>\n",
              "      <td>False</td>\n",
              "      <td>NaN</td>\n",
              "      <td>True</td>\n",
              "      <td>https://ethsanfrancisco.devpost.com/challenges...</td>\n",
              "      <td>2.0</td>\n",
              "      <td>12486.869499</td>\n",
              "      <td>14.0</td>\n",
              "    </tr>\n",
              "    <tr>\n",
              "      <th>...</th>\n",
              "      <td>...</td>\n",
              "      <td>...</td>\n",
              "      <td>...</td>\n",
              "      <td>...</td>\n",
              "      <td>...</td>\n",
              "      <td>...</td>\n",
              "      <td>...</td>\n",
              "      <td>...</td>\n",
              "      <td>...</td>\n",
              "      <td>...</td>\n",
              "      <td>...</td>\n",
              "      <td>...</td>\n",
              "      <td>...</td>\n",
              "      <td>...</td>\n",
              "      <td>...</td>\n",
              "      <td>...</td>\n",
              "      <td>...</td>\n",
              "      <td>...</td>\n",
              "      <td>...</td>\n",
              "      <td>...</td>\n",
              "      <td>...</td>\n",
              "      <td>...</td>\n",
              "      <td>...</td>\n",
              "      <td>...</td>\n",
              "      <td>...</td>\n",
              "      <td>...</td>\n",
              "      <td>...</td>\n",
              "      <td>...</td>\n",
              "      <td>...</td>\n",
              "      <td>...</td>\n",
              "      <td>...</td>\n",
              "      <td>...</td>\n",
              "      <td>...</td>\n",
              "      <td>...</td>\n",
              "      <td>...</td>\n",
              "      <td>...</td>\n",
              "      <td>...</td>\n",
              "      <td>...</td>\n",
              "    </tr>\n",
              "    <tr>\n",
              "      <th>13876</th>\n",
              "      <td>https://hackybirthdaymlh2021.devpost.com/proje...</td>\n",
              "      <td>https://devpost.com/software/hackerguide</td>\n",
              "      <td>https://github.com/Saatvik-Aggarwal/mlh-birthd...</td>\n",
              "      <td>https://devpost.com/EggBoi1234, https://devpos...</td>\n",
              "      <td>4.0</td>\n",
              "      <td>dart, flutter</td>\n",
              "      <td>https://saatvik-aggarwal.github.io/hackerguide...</td>\n",
              "      <td>saatvik-aggarwal.github.io, saatvik-aggarwal.g...</td>\n",
              "      <td>https://hackybirthdaymlh2021.devpost.com/</td>\n",
              "      <td>Hacky Birthday MLH!</td>\n",
              "      <td>1.0</td>\n",
              "      <td>2</td>\n",
              "      <td>2</td>\n",
              "      <td>https://hackybirthdaymlh2021.devpost.com/</td>\n",
              "      <td>Originality, Adherence to Theme, Completion, L...</td>\n",
              "      <td>Submissions July 23 at 10:00am EDT July 25 at ...</td>\n",
              "      <td>Public</td>\n",
              "      <td>Jul 23 – 25, 2021, Online, Public, Major Leagu...</td>\n",
              "      <td>2021-07-23</td>\n",
              "      <td>2021-07-25</td>\n",
              "      <td>First Overall, Second Overall, Third Overall, ...</td>\n",
              "      <td>no money prize</td>\n",
              "      <td>13131.0</td>\n",
              "      <td>Hacky Birthday MLH!</td>\n",
              "      <td>Online</td>\n",
              "      <td>Jul 23</td>\n",
              "      <td>25</td>\n",
              "      <td>2021.0</td>\n",
              "      <td>Beginner Friendly, Education, Open Ended</td>\n",
              "      <td>$19,000</td>\n",
              "      <td>287.0</td>\n",
              "      <td>False</td>\n",
              "      <td>Major League Hacking</td>\n",
              "      <td>True</td>\n",
              "      <td>https://hackybirthdaymlh2021.devpost.com/chall...</td>\n",
              "      <td>2.0</td>\n",
              "      <td>0.000000</td>\n",
              "      <td>0.0</td>\n",
              "    </tr>\n",
              "    <tr>\n",
              "      <th>73258</th>\n",
              "      <td>https://buildtolearn.devpost.com/project-gallery</td>\n",
              "      <td>https://devpost.com/software/hackerman-h9qmwi</td>\n",
              "      <td>NaN</td>\n",
              "      <td>https://devpost.com/Cutaiar, https://devpost.c...</td>\n",
              "      <td>3.0</td>\n",
              "      <td>amazon-web-services, c#, python, unity</td>\n",
              "      <td>Nan</td>\n",
              "      <td>Nan</td>\n",
              "      <td>https://buildtolearn.devpost.com/</td>\n",
              "      <td>Build to Learn</td>\n",
              "      <td>1.0</td>\n",
              "      <td>0</td>\n",
              "      <td>0</td>\n",
              "      <td>https://buildtolearn.devpost.com/</td>\n",
              "      <td>Machine Learning and Internet of things</td>\n",
              "      <td>Submissions October 07 at 6:15pm EDT October 0...</td>\n",
              "      <td>Public</td>\n",
              "      <td>Oct 7, 2017, Virginia Tech, Public</td>\n",
              "      <td>2017-10-07</td>\n",
              "      <td>2017-10-07</td>\n",
              "      <td>Learning              (150), Machine Learning,...</td>\n",
              "      <td>no money prize</td>\n",
              "      <td>5608.0</td>\n",
              "      <td>Build to Learn</td>\n",
              "      <td>Offline</td>\n",
              "      <td>NaN</td>\n",
              "      <td>Oct 07</td>\n",
              "      <td>2017.0</td>\n",
              "      <td>NaN</td>\n",
              "      <td>$19,000</td>\n",
              "      <td>23.0</td>\n",
              "      <td>False</td>\n",
              "      <td>NaN</td>\n",
              "      <td>False</td>\n",
              "      <td>https://buildtolearn.devpost.com/challenges/st...</td>\n",
              "      <td>0.0</td>\n",
              "      <td>0.000000</td>\n",
              "      <td>0.0</td>\n",
              "    </tr>\n",
              "    <tr>\n",
              "      <th>5303</th>\n",
              "      <td>https://hackqc2017.devpost.com/project-gallery</td>\n",
              "      <td>https://devpost.com/software/hackerman-table-5</td>\n",
              "      <td>NaN</td>\n",
              "      <td>https://devpost.com/AdamLetourneau, https://de...</td>\n",
              "      <td>5.0</td>\n",
              "      <td>css3, heart, html5, node.js, python, react-native</td>\n",
              "      <td>https://gitlab.com/h4ckermen/</td>\n",
              "      <td>gitlab.com</td>\n",
              "      <td>https://hackqc2017.devpost.com/</td>\n",
              "      <td>HackQC 2017</td>\n",
              "      <td>1.0</td>\n",
              "      <td>1</td>\n",
              "      <td>1</td>\n",
              "      <td>https://hackqc2017.devpost.com/</td>\n",
              "      <td>À venir</td>\n",
              "      <td>Submissions March 10 at 12:00am EST March 12 a...</td>\n",
              "      <td>Public</td>\n",
              "      <td>Mar 10 – 12, 2017, Centre de Foires de Sherbro...</td>\n",
              "      <td>2017-03-10</td>\n",
              "      <td>2017-03-12</td>\n",
              "      <td>1er Prix, 2e Prix, 3e Prix, Coup de coeur</td>\n",
              "      <td>$10,500</td>\n",
              "      <td>4628.0</td>\n",
              "      <td>HackQC 2017</td>\n",
              "      <td>Offline</td>\n",
              "      <td>Mar 10</td>\n",
              "      <td>12</td>\n",
              "      <td>2017.0</td>\n",
              "      <td>NaN</td>\n",
              "      <td>$19,000</td>\n",
              "      <td>115.0</td>\n",
              "      <td>False</td>\n",
              "      <td>NaN</td>\n",
              "      <td>False</td>\n",
              "      <td>https://hackqc2017.devpost.com/challenges/star...</td>\n",
              "      <td>2.0</td>\n",
              "      <td>404.322627</td>\n",
              "      <td>0.0</td>\n",
              "    </tr>\n",
              "    <tr>\n",
              "      <th>13201</th>\n",
              "      <td>https://hackvalley.devpost.com/project-gallery</td>\n",
              "      <td>https://devpost.com/software/hackermatch-githu...</td>\n",
              "      <td>https://github.com/justinborromeo/hackermatch....</td>\n",
              "      <td>https://devpost.com/Nayef211, https://devpost....</td>\n",
              "      <td>4.0</td>\n",
              "      <td>css, html, javascript, python</td>\n",
              "      <td>https://github.com/justinborromeo/hackermatch....</td>\n",
              "      <td>github.com</td>\n",
              "      <td>https://hackvalley.devpost.com/</td>\n",
              "      <td>Hack the Valley</td>\n",
              "      <td>1.0</td>\n",
              "      <td>0</td>\n",
              "      <td>0</td>\n",
              "      <td>https://hackvalley.devpost.com/</td>\n",
              "      <td>Product Viability, Creativity/Uniqueness, Tech...</td>\n",
              "      <td>Submissions January 07 at 10:00am EST January ...</td>\n",
              "      <td>Public</td>\n",
              "      <td>Jan 7 – 8, 2017, University of Toronto Scarbor...</td>\n",
              "      <td>2017-01-07</td>\n",
              "      <td>2017-01-08</td>\n",
              "      <td>1st Place Overall Hack, 2nd Place Overall Hack...</td>\n",
              "      <td>$2,480</td>\n",
              "      <td>3921.0</td>\n",
              "      <td>Hack the Valley</td>\n",
              "      <td>Offline</td>\n",
              "      <td>Jan 07</td>\n",
              "      <td>08</td>\n",
              "      <td>2017.0</td>\n",
              "      <td>NaN</td>\n",
              "      <td>$19,000</td>\n",
              "      <td>158.0</td>\n",
              "      <td>False</td>\n",
              "      <td>NaN</td>\n",
              "      <td>True</td>\n",
              "      <td>https://hackvalley.devpost.com/challenges/star...</td>\n",
              "      <td>1.0</td>\n",
              "      <td>47.041933</td>\n",
              "      <td>0.0</td>\n",
              "    </tr>\n",
              "    <tr>\n",
              "      <th>14105</th>\n",
              "      <td>https://oxford-hack-2019.devpost.com/project-g...</td>\n",
              "      <td>https://devpost.com/software/litterbug-6jn53z</td>\n",
              "      <td>NaN</td>\n",
              "      <td>https://devpost.com/acag281, https://devpost.c...</td>\n",
              "      <td>4.0</td>\n",
              "      <td>azure-cloud, flask, google-maps, javascript, n...</td>\n",
              "      <td>Nan</td>\n",
              "      <td>Nan</td>\n",
              "      <td>https://oxford-hack-2019.devpost.com/</td>\n",
              "      <td>Oxford Hack 2019</td>\n",
              "      <td>1.0</td>\n",
              "      <td>2</td>\n",
              "      <td>2</td>\n",
              "      <td>https://oxford-hack-2019.devpost.com/</td>\n",
              "      <td>TBA</td>\n",
              "      <td>Submissions November 16 at 2:30pm GMT November...</td>\n",
              "      <td>Public</td>\n",
              "      <td>Nov 16 – 17, 2019, University of Oxford - Math...</td>\n",
              "      <td>2019-11-16</td>\n",
              "      <td>2019-11-17</td>\n",
              "      <td>Hack (for) The Planet, Most Entertaining Hack,...</td>\n",
              "      <td>no money prize</td>\n",
              "      <td>8956.0</td>\n",
              "      <td>Oxford Hack 2019</td>\n",
              "      <td>Offline</td>\n",
              "      <td>Nov 16</td>\n",
              "      <td>17</td>\n",
              "      <td>2019.0</td>\n",
              "      <td>NaN</td>\n",
              "      <td>£19,000</td>\n",
              "      <td>148.0</td>\n",
              "      <td>False</td>\n",
              "      <td>NaN</td>\n",
              "      <td>True</td>\n",
              "      <td>https://oxford-hack-2019.devpost.com/challenge...</td>\n",
              "      <td>1.0</td>\n",
              "      <td>0.000000</td>\n",
              "      <td>0.0</td>\n",
              "    </tr>\n",
              "  </tbody>\n",
              "</table>\n",
              "<p>46955 rows × 38 columns</p>\n",
              "</div>\n",
              "      <button class=\"colab-df-convert\" onclick=\"convertToInteractive('df-087d61c6-a0df-4cc5-b298-46971f2809ff')\"\n",
              "              title=\"Convert this dataframe to an interactive table.\"\n",
              "              style=\"display:none;\">\n",
              "        \n",
              "  <svg xmlns=\"http://www.w3.org/2000/svg\" height=\"24px\"viewBox=\"0 0 24 24\"\n",
              "       width=\"24px\">\n",
              "    <path d=\"M0 0h24v24H0V0z\" fill=\"none\"/>\n",
              "    <path d=\"M18.56 5.44l.94 2.06.94-2.06 2.06-.94-2.06-.94-.94-2.06-.94 2.06-2.06.94zm-11 1L8.5 8.5l.94-2.06 2.06-.94-2.06-.94L8.5 2.5l-.94 2.06-2.06.94zm10 10l.94 2.06.94-2.06 2.06-.94-2.06-.94-.94-2.06-.94 2.06-2.06.94z\"/><path d=\"M17.41 7.96l-1.37-1.37c-.4-.4-.92-.59-1.43-.59-.52 0-1.04.2-1.43.59L10.3 9.45l-7.72 7.72c-.78.78-.78 2.05 0 2.83L4 21.41c.39.39.9.59 1.41.59.51 0 1.02-.2 1.41-.59l7.78-7.78 2.81-2.81c.8-.78.8-2.07 0-2.86zM5.41 20L4 18.59l7.72-7.72 1.47 1.35L5.41 20z\"/>\n",
              "  </svg>\n",
              "      </button>\n",
              "      \n",
              "  <style>\n",
              "    .colab-df-container {\n",
              "      display:flex;\n",
              "      flex-wrap:wrap;\n",
              "      gap: 12px;\n",
              "    }\n",
              "\n",
              "    .colab-df-convert {\n",
              "      background-color: #E8F0FE;\n",
              "      border: none;\n",
              "      border-radius: 50%;\n",
              "      cursor: pointer;\n",
              "      display: none;\n",
              "      fill: #1967D2;\n",
              "      height: 32px;\n",
              "      padding: 0 0 0 0;\n",
              "      width: 32px;\n",
              "    }\n",
              "\n",
              "    .colab-df-convert:hover {\n",
              "      background-color: #E2EBFA;\n",
              "      box-shadow: 0px 1px 2px rgba(60, 64, 67, 0.3), 0px 1px 3px 1px rgba(60, 64, 67, 0.15);\n",
              "      fill: #174EA6;\n",
              "    }\n",
              "\n",
              "    [theme=dark] .colab-df-convert {\n",
              "      background-color: #3B4455;\n",
              "      fill: #D2E3FC;\n",
              "    }\n",
              "\n",
              "    [theme=dark] .colab-df-convert:hover {\n",
              "      background-color: #434B5C;\n",
              "      box-shadow: 0px 1px 3px 1px rgba(0, 0, 0, 0.15);\n",
              "      filter: drop-shadow(0px 1px 2px rgba(0, 0, 0, 0.3));\n",
              "      fill: #FFFFFF;\n",
              "    }\n",
              "  </style>\n",
              "\n",
              "      <script>\n",
              "        const buttonEl =\n",
              "          document.querySelector('#df-087d61c6-a0df-4cc5-b298-46971f2809ff button.colab-df-convert');\n",
              "        buttonEl.style.display =\n",
              "          google.colab.kernel.accessAllowed ? 'block' : 'none';\n",
              "\n",
              "        async function convertToInteractive(key) {\n",
              "          const element = document.querySelector('#df-087d61c6-a0df-4cc5-b298-46971f2809ff');\n",
              "          const dataTable =\n",
              "            await google.colab.kernel.invokeFunction('convertToInteractive',\n",
              "                                                     [key], {});\n",
              "          if (!dataTable) return;\n",
              "\n",
              "          const docLinkHtml = 'Like what you see? Visit the ' +\n",
              "            '<a target=\"_blank\" href=https://colab.research.google.com/notebooks/data_table.ipynb>data table notebook</a>'\n",
              "            + ' to learn more about interactive tables.';\n",
              "          element.innerHTML = '';\n",
              "          dataTable['output_type'] = 'display_data';\n",
              "          await google.colab.output.renderOutput(dataTable, element);\n",
              "          const docLink = document.createElement('div');\n",
              "          docLink.innerHTML = docLinkHtml;\n",
              "          element.appendChild(docLink);\n",
              "        }\n",
              "      </script>\n",
              "    </div>\n",
              "  </div>\n",
              "  "
            ],
            "text/plain": [
              "                                      submission_gal_url  ... intergroup_tz_dist\n",
              "76997  https://theglobalhack.devpost.com/project-gallery  ...               14.0\n",
              "76551  https://theglobalhack.devpost.com/project-gallery  ...               14.0\n",
              "51002       https://hackcc14.devpost.com/project-gallery  ...               14.0\n",
              "77499  https://salesforcehackathon.devpost.com/projec...  ...               14.0\n",
              "54115  https://ethsanfrancisco.devpost.com/project-ga...  ...               14.0\n",
              "...                                                  ...  ...                ...\n",
              "13876  https://hackybirthdaymlh2021.devpost.com/proje...  ...                0.0\n",
              "73258   https://buildtolearn.devpost.com/project-gallery  ...                0.0\n",
              "5303      https://hackqc2017.devpost.com/project-gallery  ...                0.0\n",
              "13201     https://hackvalley.devpost.com/project-gallery  ...                0.0\n",
              "14105  https://oxford-hack-2019.devpost.com/project-g...  ...                0.0\n",
              "\n",
              "[46955 rows x 38 columns]"
            ]
          },
          "metadata": {},
          "execution_count": 49
        }
      ],
      "source": [
        "#however, we also can see that there are some groups for which time zone distance is super large, for example\n",
        "projects.sort_values('intergroup_tz_dist', ascending=False)"
      ]
    },
    {
      "cell_type": "markdown",
      "metadata": {
        "id": "UCmq44os6kjY"
      },
      "source": [
        "Checking participants locations diversity in online and offline hacjathons"
      ]
    },
    {
      "cell_type": "markdown",
      "metadata": {
        "id": "QeeQh90WqoB-"
      },
      "source": [
        "## 5. Plotting some graphs"
      ]
    },
    {
      "cell_type": "code",
      "execution_count": null,
      "metadata": {
        "id": "w00KowFBDgev"
      },
      "outputs": [],
      "source": [
        "\n",
        "# elements_in_location = []\n",
        "# for p in participants['country']:\n",
        "#   if p != 'Nan':\n",
        "#     elements_in_location.append(p.count(',') + 1)\n",
        "#   else:\n",
        "#     elements_in_location.append(0)\n",
        "\n",
        "# participants['elements_in_location'] = [e for e in elements_in_location]\n",
        "\n",
        "# participants_with_country = participants[participants['elements_in_location'] > 1]\n",
        "\n",
        "# participants_with_only_country = participants[participants['elements_in_location'] == 1]"
      ]
    },
    {
      "cell_type": "code",
      "execution_count": null,
      "metadata": {
        "id": "xST9MT0lsc-w"
      },
      "outputs": [],
      "source": [
        "\n",
        "grouped = hacks.groupby('year').count().sort_values('year' , ascending=True).reset_index()\n",
        "# grouped['Start_month_year'] = str(grouped['year']) + ' ' + str(grouped['month'])"
      ]
    },
    {
      "cell_type": "code",
      "execution_count": null,
      "metadata": {
        "colab": {
          "base_uri": "https://localhost:8080/",
          "height": 458
        },
        "id": "dbL1lGWbueNo",
        "outputId": "5a905d6f-646b-4bfb-eda9-97e2af131c0b"
      },
      "outputs": [
        {
          "output_type": "display_data",
          "data": {
            "image/png": "[encoded data removed]",
            "text/plain": [
              "<Figure size 1080x504 with 1 Axes>"
            ]
          },
          "metadata": {
            "needs_background": "light"
          }
        }
      ],
      "source": [
        "fig, ax = plt.subplots(figsize=(15, 7))\n",
        "ax.plot(grouped['year'], grouped['URL'], color='green', label= 'N',  marker='o', linestyle='dashed',\n",
        "     linewidth=2, markersize=7)\n",
        "ax.set_title('Number of hackathons on Devpost.com by year')\n",
        "ax.set_xlabel('Year')\n",
        "ax.set_ylabel('N')\n",
        "ax.xaxis.set_ticks(grouped['year'].values)\n",
        "\n",
        "for i, row in grouped.iterrows():\n",
        "    ax.annotate(str(row['URL']), xy=(row['year'], row['URL'] + 30))\n",
        "\n",
        "plt.show()"
      ]
    },
    {
      "cell_type": "code",
      "execution_count": null,
      "metadata": {
        "id": "Eol14MRCUgGz"
      },
      "outputs": [],
      "source": [
        "grouped = hacks.groupby(['year', 'Location']).count().sort_values('year' , ascending=True).reset_index()\n",
        "grouped_online = grouped[grouped['Location']=='Online']\n",
        "grouped_offline = grouped[grouped['Location']=='Offline']\n",
        "# grouped['Start_month_year'] = str(grouped['year']) + ' ' + str(grouped['month'])"
      ]
    },
    {
      "cell_type": "code",
      "execution_count": null,
      "metadata": {
        "colab": {
          "base_uri": "https://localhost:8080/",
          "height": 458
        },
        "id": "0GeP50vtUlOW",
        "outputId": "05a4c17c-8e83-4d41-9aca-b2a66682ea4e"
      },
      "outputs": [
        {
          "output_type": "display_data",
          "data": {
            "image/png": "[encoded data removed]",
            "text/plain": [
              "<Figure size 1080x504 with 1 Axes>"
            ]
          },
          "metadata": {
            "needs_background": "light"
          }
        }
      ],
      "source": [
        "colors = ['green', 'grey']\n",
        "fig, ax = plt.subplots(figsize=(15, 7))\n",
        "for c, loc in [['green','Online'],['grey','Offline']]:\n",
        "  ax.plot(grouped[grouped.Location==loc].year, grouped[grouped.Location==loc].URL, color = c, label= 'N',  marker='o', linestyle='dashed', \n",
        "          linewidth=2, markersize=7)\n",
        "  ax.set_title('Number of online and offline hackathons on Devpost.com by year')\n",
        "  ax.set_xlabel('Year')\n",
        "  ax.set_ylabel('N')\n",
        "  ax.legend(['Online', 'Offline'])\n",
        "  ax.xaxis.set_ticks(grouped[grouped.Location==loc].year.values)\n",
        "\n",
        "for i, row in grouped_online.iterrows():\n",
        "  ax.annotate(str(row['URL']), xy=(row['year'], row['URL'] + 20))\n",
        "for i, row in grouped_offline.iterrows():\n",
        "  ax.annotate(str(row['URL']), xy=(row['year'], row['URL'] - 40))\n",
        "\n",
        "# ax[1].plot(grouped_online['year'], grouped_online['URL'], color='green', label= 'N',  marker='o', linestyle='dashed',\n",
        "#      linewidth=2, markersize=7)\n",
        "# # ax[1].set_title('Number of hackathons on Devpost.com by year')\n",
        "# ax[1].set_xlabel('Year')\n",
        "# ax[1].set_ylabel('N')\n",
        "# ax[1].xaxis.set_ticks(grouped_online['year'].values)\n",
        "\n",
        "# for i, row in grouped_online.iterrows():\n",
        "#     ax[1].annotate(str(row['URL']), xy=(row['year'], row['URL'] + 30))\n",
        "\n",
        "plt.show()"
      ]
    },
    {
      "cell_type": "markdown",
      "metadata": {
        "id": "Brzu8VLdxYvT"
      },
      "source": [
        "Now we will actually run Nominatim again in order to get the english country name by latitude and longtitude in order to aggregate hacks data"
      ]
    },
    {
      "cell_type": "code",
      "execution_count": null,
      "metadata": {
        "id": "xCukxkEnQRUU"
      },
      "outputs": [],
      "source": [
        "import geopy\n",
        "from geopy.geocoders import Nominatim\n",
        "geolocator = Nominatim(user_agent=\"geoapiExercises\")"
      ]
    },
    {
      "cell_type": "code",
      "execution_count": null,
      "metadata": {
        "colab": {
          "base_uri": "https://localhost:8080/"
        },
        "id": "0IllvsoHtCBO",
        "outputId": "d1966353-6b6c-4e99-de42-dbf3f03077ac"
      },
      "outputs": [
        {
          "output_type": "stream",
          "name": "stderr",
          "text": [
            "  3%|▎         | 332/11914 [02:54<2:11:06,  1.47it/s]"
          ]
        },
        {
          "output_type": "stream",
          "name": "stdout",
          "text": [
            "Timeout error in row 353\n"
          ]
        },
        {
          "output_type": "stream",
          "name": "stderr",
          "text": [
            "  3%|▎         | 378/11914 [03:17<2:14:01,  1.43it/s]"
          ]
        },
        {
          "output_type": "stream",
          "name": "stdout",
          "text": [
            "Timeout error in row 399\n"
          ]
        },
        {
          "output_type": "stream",
          "name": "stderr",
          "text": [
            "  3%|▎         | 381/11914 [03:19<2:21:38,  1.36it/s]"
          ]
        },
        {
          "output_type": "stream",
          "name": "stdout",
          "text": [
            "Timeout error in row 402\n"
          ]
        },
        {
          "output_type": "stream",
          "name": "stderr",
          "text": [
            "  3%|▎         | 386/11914 [03:22<2:15:39,  1.42it/s]"
          ]
        },
        {
          "output_type": "stream",
          "name": "stdout",
          "text": [
            "Timeout error in row 408\n"
          ]
        },
        {
          "output_type": "stream",
          "name": "stderr",
          "text": [
            "  4%|▍         | 450/11914 [03:55<2:16:51,  1.40it/s]"
          ]
        },
        {
          "output_type": "stream",
          "name": "stdout",
          "text": [
            "Timeout error in row 475\n"
          ]
        },
        {
          "output_type": "stream",
          "name": "stderr",
          "text": [
            "  4%|▍         | 453/11914 [03:56<1:33:29,  2.04it/s]"
          ]
        },
        {
          "output_type": "stream",
          "name": "stdout",
          "text": [
            "Timeout error in row 478\n"
          ]
        },
        {
          "output_type": "stream",
          "name": "stderr",
          "text": [
            "  4%|▍         | 456/11914 [03:58<1:29:54,  2.12it/s]"
          ]
        },
        {
          "output_type": "stream",
          "name": "stdout",
          "text": [
            "Timeout error in row 481\n"
          ]
        },
        {
          "output_type": "stream",
          "name": "stderr",
          "text": [
            "  4%|▍         | 473/11914 [04:07<2:12:51,  1.44it/s]"
          ]
        },
        {
          "output_type": "stream",
          "name": "stdout",
          "text": [
            "Timeout error in row 498\n"
          ]
        },
        {
          "output_type": "stream",
          "name": "stderr",
          "text": [
            "  4%|▍         | 533/11914 [04:39<2:08:44,  1.47it/s]"
          ]
        },
        {
          "output_type": "stream",
          "name": "stdout",
          "text": [
            "Timeout error in row 560\n"
          ]
        },
        {
          "output_type": "stream",
          "name": "stderr",
          "text": [
            "  5%|▍         | 546/11914 [04:46<2:17:55,  1.37it/s]"
          ]
        },
        {
          "output_type": "stream",
          "name": "stdout",
          "text": [
            "Timeout error in row 573\n"
          ]
        },
        {
          "output_type": "stream",
          "name": "stderr",
          "text": [
            "  5%|▍         | 548/11914 [04:47<2:24:54,  1.31it/s]"
          ]
        },
        {
          "output_type": "stream",
          "name": "stdout",
          "text": [
            "Timeout error in row 575\n"
          ]
        },
        {
          "output_type": "stream",
          "name": "stderr",
          "text": [
            " 13%|█▎        | 1511/11914 [12:44<1:58:50,  1.46it/s]"
          ]
        },
        {
          "output_type": "stream",
          "name": "stdout",
          "text": [
            "Timeout error in row 1632\n"
          ]
        },
        {
          "output_type": "stream",
          "name": "stderr",
          "text": [
            " 14%|█▎        | 1609/11914 [13:33<1:59:12,  1.44it/s]"
          ]
        },
        {
          "output_type": "stream",
          "name": "stdout",
          "text": [
            "Timeout error in row 1736\n"
          ]
        },
        {
          "output_type": "stream",
          "name": "stderr",
          "text": [
            " 29%|██▉       | 3477/11914 [28:55<1:38:46,  1.42it/s]"
          ]
        },
        {
          "output_type": "stream",
          "name": "stdout",
          "text": [
            "Timeout error in row 3649\n"
          ]
        },
        {
          "output_type": "stream",
          "name": "stderr",
          "text": [
            " 38%|███▊      | 4537/11914 [37:43<1:24:12,  1.46it/s]"
          ]
        },
        {
          "output_type": "stream",
          "name": "stdout",
          "text": [
            "Timeout error in row 4744\n"
          ]
        },
        {
          "output_type": "stream",
          "name": "stderr",
          "text": [
            " 40%|████      | 4788/11914 [39:47<1:20:59,  1.47it/s]"
          ]
        },
        {
          "output_type": "stream",
          "name": "stdout",
          "text": [
            "Timeout error in row 5003\n"
          ]
        },
        {
          "output_type": "stream",
          "name": "stderr",
          "text": [
            " 41%|████      | 4849/11914 [40:19<1:23:29,  1.41it/s]"
          ]
        },
        {
          "output_type": "stream",
          "name": "stdout",
          "text": [
            "Timeout error in row 5066\n"
          ]
        },
        {
          "output_type": "stream",
          "name": "stderr",
          "text": [
            " 41%|████      | 4878/11914 [40:35<1:28:00,  1.33it/s]"
          ]
        },
        {
          "output_type": "stream",
          "name": "stdout",
          "text": [
            "Timeout error in row 5096\n"
          ]
        },
        {
          "output_type": "stream",
          "name": "stderr",
          "text": [
            " 41%|████      | 4882/11914 [40:37<1:27:03,  1.35it/s]"
          ]
        },
        {
          "output_type": "stream",
          "name": "stdout",
          "text": [
            "Timeout error in row 5100\n"
          ]
        },
        {
          "output_type": "stream",
          "name": "stderr",
          "text": [
            " 52%|█████▏    | 6199/11914 [51:32<1:05:20,  1.46it/s]"
          ]
        },
        {
          "output_type": "stream",
          "name": "stdout",
          "text": [
            "Timeout error in row 6449\n"
          ]
        },
        {
          "output_type": "stream",
          "name": "stderr",
          "text": [
            " 54%|█████▍    | 6470/11914 [53:45<1:04:03,  1.42it/s]"
          ]
        },
        {
          "output_type": "stream",
          "name": "stdout",
          "text": [
            "Timeout error in row 6725\n"
          ]
        },
        {
          "output_type": "stream",
          "name": "stderr",
          "text": [
            " 56%|█████▋    | 6704/11914 [55:38<1:00:22,  1.44it/s]"
          ]
        },
        {
          "output_type": "stream",
          "name": "stdout",
          "text": [
            "Timeout error in row 6961\n"
          ]
        },
        {
          "output_type": "stream",
          "name": "stderr",
          "text": [
            " 61%|██████▏   | 7322/11914 [1:00:41<53:13,  1.44it/s]"
          ]
        },
        {
          "output_type": "stream",
          "name": "stdout",
          "text": [
            "Timeout error in row 7585\n"
          ]
        },
        {
          "output_type": "stream",
          "name": "stderr",
          "text": [
            " 71%|███████▏  | 8491/11914 [1:10:12<41:23,  1.38it/s]"
          ]
        },
        {
          "output_type": "stream",
          "name": "stdout",
          "text": [
            "Timeout error in row 8759\n"
          ]
        },
        {
          "output_type": "stream",
          "name": "stderr",
          "text": [
            " 78%|███████▊  | 9281/11914 [1:16:41<30:45,  1.43it/s]"
          ]
        },
        {
          "output_type": "stream",
          "name": "stdout",
          "text": [
            "Timeout error in row 9560\n"
          ]
        },
        {
          "output_type": "stream",
          "name": "stderr",
          "text": [
            " 78%|███████▊  | 9292/11914 [1:16:47<30:57,  1.41it/s]"
          ]
        },
        {
          "output_type": "stream",
          "name": "stdout",
          "text": [
            "Timeout error in row 9571\n"
          ]
        },
        {
          "output_type": "stream",
          "name": "stderr",
          "text": [
            " 96%|█████████▌| 11391/11914 [1:33:59<06:00,  1.45it/s]"
          ]
        },
        {
          "output_type": "stream",
          "name": "stdout",
          "text": [
            "Timeout error in row 11686\n"
          ]
        },
        {
          "output_type": "stream",
          "name": "stderr",
          "text": [
            " 96%|█████████▋| 11481/11914 [1:34:44<05:59,  1.20it/s]"
          ]
        },
        {
          "output_type": "stream",
          "name": "stdout",
          "text": [
            "Timeout error in row 11776\n"
          ]
        },
        {
          "output_type": "stream",
          "name": "stderr",
          "text": [
            "\r 96%|█████████▋| 11482/11914 [1:34:45<06:43,  1.07it/s]"
          ]
        },
        {
          "output_type": "stream",
          "name": "stdout",
          "text": [
            "Timeout error in row 11777\n"
          ]
        },
        {
          "output_type": "stream",
          "name": "stderr",
          "text": [
            "\r 96%|█████████▋| 11483/11914 [1:34:47<07:14,  1.01s/it]"
          ]
        },
        {
          "output_type": "stream",
          "name": "stdout",
          "text": [
            "Timeout error in row 11778\n"
          ]
        },
        {
          "output_type": "stream",
          "name": "stderr",
          "text": [
            " 97%|█████████▋| 11535/11914 [1:35:13<04:29,  1.40it/s]"
          ]
        },
        {
          "output_type": "stream",
          "name": "stdout",
          "text": [
            "Timeout error in row 11830\n"
          ]
        },
        {
          "output_type": "stream",
          "name": "stderr",
          "text": [
            " 97%|█████████▋| 11582/11914 [1:35:38<04:03,  1.36it/s]"
          ]
        },
        {
          "output_type": "stream",
          "name": "stdout",
          "text": [
            "Timeout error in row 11877\n"
          ]
        },
        {
          "output_type": "stream",
          "name": "stderr",
          "text": [
            " 98%|█████████▊| 11693/11914 [1:36:36<03:05,  1.19it/s]"
          ]
        },
        {
          "output_type": "stream",
          "name": "stdout",
          "text": [
            "Timeout error in row 11988\n"
          ]
        },
        {
          "output_type": "stream",
          "name": "stderr",
          "text": [
            " 99%|█████████▉| 11811/11914 [1:37:33<00:51,  2.02it/s]"
          ]
        },
        {
          "output_type": "stream",
          "name": "stdout",
          "text": [
            "Timeout error in row 12106\n"
          ]
        },
        {
          "output_type": "stream",
          "name": "stderr",
          "text": [
            "100%|██████████| 11914/11914 [1:38:24<00:00,  2.02it/s]\n"
          ]
        }
      ],
      "source": [
        "city_standartized = []\n",
        "country_standartized = []\n",
        "for ind, row in tqdm(participants_locations.iterrows(), total=participants_locations.shape[0]):\n",
        "  try:\n",
        "    location = geolocator.reverse(str(row.lat)+\",\"+str(row.lon), language='en')\n",
        "    address = location.raw['address']\n",
        "  except:\n",
        "    print(f\"Timeout error in row {ind}\")\n",
        "    country_standartized.append((None))\n",
        "    city_standartized.append((None))\n",
        "    continue\n",
        "  try:\n",
        "    country = address.get('country', '')\n",
        "    country_standartized.append((country))\n",
        "  except:\n",
        "    country_standartized.append((None))\n",
        "  try:\n",
        "    city = address.get('city', '')\n",
        "    city_standartized.append((city))\n",
        "  except:\n",
        "    city_standartized.append((None))\n",
        "\n",
        "participants_locations['city_eng'] = [c for c in city_standartized]\n",
        "participants_locations['country_eng'] = [c for c in country_standartized]\n",
        "participants_locations.to_csv(r'/content/drive/MyDrive/Thesis/data/Data_all/all_locations_cleaned_new_new.csv', index=False)"
      ]
    },
    {
      "cell_type": "code",
      "source": [
        "participants_locations = pd.read_csv('/content/drive/MyDrive/Thesis/data/Data_all/all_locations_cleaned_new_new.csv')"
      ],
      "metadata": {
        "id": "5xVBHN0reUvv"
      },
      "execution_count": null,
      "outputs": []
    },
    {
      "cell_type": "code",
      "execution_count": null,
      "metadata": {
        "id": "8Da0mjgLKDQY"
      },
      "outputs": [],
      "source": [
        "# all_countries = pd.read_csv(r'/content/drive/MyDrive/Thesis/data/Data_all/all_locations_cleaned_new_new.csv')"
      ]
    },
    {
      "cell_type": "code",
      "execution_count": null,
      "metadata": {
        "id": "SeJYsOxlcONP"
      },
      "outputs": [],
      "source": [
        "data = projects\n",
        "data = data[['start_date_format', 'participants']]\n",
        "data = (data.set_index('start_date_format')\n",
        "   .apply(lambda x: x.str.split(',').explode())\n",
        "   .reset_index()) \n",
        "data = data.merge(participants, left_on = 'participants',right_on = '0', how='left')\n",
        "data = data[['start_date_format', 'country']]\n",
        "data = data.merge(participants_locations, on = 'country', how='left')\n",
        "data = data[['start_date_format', 'country_eng']]\n",
        "data = data[~ data['country_eng'].isna()]\n",
        "data['start_date_format'] = pd.to_datetime(data['start_date_format'])\n",
        "data['year'] = data['start_date_format'].dt.year"
      ]
    },
    {
      "cell_type": "code",
      "execution_count": null,
      "metadata": {
        "id": "xTh6uGrNaxcd"
      },
      "outputs": [],
      "source": [
        "data_1 = data[['year', 'country_eng']]\n",
        "grouped = data_1.groupby('year').nunique().sort_values('year' , ascending=True).reset_index()"
      ]
    },
    {
      "cell_type": "code",
      "execution_count": null,
      "metadata": {
        "colab": {
          "base_uri": "https://localhost:8080/",
          "height": 623
        },
        "id": "EQRznb7qkDRt",
        "outputId": "1f244187-7256-4dda-e74c-01afd8efbdb2"
      },
      "outputs": [
        {
          "output_type": "display_data",
          "data": {
            "image/png": "[encoded data removed]",
            "text/plain": [
              "<Figure size 1440x720 with 1 Axes>"
            ]
          },
          "metadata": {
            "needs_background": "light"
          }
        }
      ],
      "source": [
        "fig, ax = plt.subplots(figsize=(20, 10))\n",
        "ax.plot(grouped['year'], grouped['country_eng'], color='green', label= 'N',  marker='o', linestyle='dashed',\n",
        "     linewidth=2, markersize=7)\n",
        "ax.set_title(\"Number of unique participants' countries by year\", fontsize = 15)\n",
        "ax.set_xlabel('Year')\n",
        "ax.set_ylabel('N')\n",
        "ax.xaxis.set_ticks(grouped['year'].values)\n",
        "\n",
        "for i, row in grouped.iterrows():\n",
        "    ax.annotate(str(row['country_eng'].astype('int')), xy=(row['year'], row['country_eng'] + 5))\n",
        "\n",
        "plt.show()"
      ]
    },
    {
      "cell_type": "code",
      "execution_count": null,
      "metadata": {
        "id": "pQsNTYM8EIJY"
      },
      "outputs": [],
      "source": [
        "data_2 = data[['year', 'country_eng']]\n",
        "data_2['country'] = data_2['country_eng']\n",
        "grouped_2 = data_2.groupby(['year', 'country']).count().sort_values(['year', 'country_eng'] , ascending=[True, False]).reset_index()\n",
        "# grouped_2 = grouped_2[grouped_2['year'].isin([2009, 2012, 2015, 2018, 2020, 2021])]"
      ]
    },
    {
      "cell_type": "code",
      "execution_count": null,
      "metadata": {
        "colab": {
          "base_uri": "https://localhost:8080/",
          "height": 1000
        },
        "id": "cUjPAMeulOgD",
        "outputId": "941c964f-a581-46ab-a523-f899c10420cd"
      },
      "outputs": [
        {
          "output_type": "display_data",
          "data": {
            "image/png": "[encoded data removed]",
            "text/plain": [
              "<Figure size 1800x1800 with 10 Axes>"
            ]
          },
          "metadata": {
            "needs_background": "light"
          }
        }
      ],
      "source": [
        "years = grouped_2['year'].unique()\n",
        "\n",
        "fig, axs = plt.subplots(len(years) // 2 if len(years) % 2 == 0 else len(years) // 2 + 1, 2, figsize=(25, 25))\n",
        "\n",
        "for i, year in enumerate(years):\n",
        "  year_df = grouped_2.loc[grouped_2['year'] == year, :].copy()\n",
        "  year_df['country_eng'] = (year_df['country_eng'] / year_df['country_eng'].sum() * 100).round(2)\n",
        "  \n",
        "  if year_df.shape[0] > 7:\n",
        "    year_df = year_df.iloc[:7, :]\n",
        "\n",
        "  ax = axs[i // 2, i % 2]\n",
        "  ax.bar(year_df['country'], year_df['country_eng'], color = 'green')\n",
        "  ax.set_xticks(range(year_df['country'].shape[0]))\n",
        "  ax.set_xticklabels(year_df['country'], rotation=10, fontsize=12)\n",
        "  ax.set_title(f\"Year {int(year)}\", fontsize=15)\n",
        "  \n",
        "  for ind, row in year_df.reset_index().iterrows():\n",
        "    ax.annotate(row['country_eng'], xy=(ind, row['country_eng'] + 1))"
      ]
    },
    {
      "cell_type": "code",
      "execution_count": null,
      "metadata": {
        "id": "3ILwyBzfSqeP",
        "colab": {
          "base_uri": "https://localhost:8080/",
          "height": 607
        },
        "outputId": "a49244be-4dfc-4511-9bc2-e6135e1b9f43"
      },
      "outputs": [
        {
          "output_type": "display_data",
          "data": {
            "image/png": "[encoded data removed]",
            "text/plain": [
              "<Figure size 1080x720 with 1 Axes>"
            ]
          },
          "metadata": {
            "needs_background": "light"
          }
        }
      ],
      "source": [
        "# remove numpy warning \n",
        "import warnings\n",
        "\n",
        "warnings.filterwarnings('ignore')\n",
        "\n",
        "\n",
        "result_df = pd.DataFrame(columns=grouped_2.columns)\n",
        "for i, year in enumerate(years):\n",
        "  year_df = grouped_2.loc[grouped_2['year'] == year, :].copy()\n",
        "  year_df['country_eng'] = (year_df['country_eng'] / year_df['country_eng'].sum() * 100).round(2)\n",
        "  \n",
        "  if year_df.shape[0] > 7:\n",
        "      year_df = year_df.iloc[:7, :]\n",
        "\n",
        "  result_df = pd.concat([result_df, year_df])\n",
        "\n",
        "countries = result_df.country.unique()\n",
        "NUM_COLORS = len(countries)\n",
        "LINE_STYLES = ['solid', 'dashed', 'dashdot', 'dotted']\n",
        "NUM_STYLES = len(LINE_STYLES)\n",
        "\n",
        "cm = plt.get_cmap('rainbow')\n",
        "\n",
        "plt.figure(figsize=(15,10))\n",
        "for i, c in enumerate(countries):\n",
        "  country_df = result_df.loc[result_df['country'] == c, :].copy()\n",
        "  country_year_ratios = [country_df.loc[country_df['year'] == y, 'country_eng'] if not country_df.loc[country_df['year'] == y, 'country_eng'].empty else 0 for y in years]\n",
        "  plt.plot(years, country_year_ratios, label=c, color=cm(i//NUM_STYLES*float(NUM_STYLES)/NUM_COLORS), linestyle=LINE_STYLES[i%NUM_STYLES])\n",
        "  plt.scatter(years, country_year_ratios, color=cm(i//NUM_STYLES*float(NUM_STYLES)/NUM_COLORS))\n",
        "\n",
        "plt.title('Top 7 countries change 2013-2021 (ratio)')\n",
        "plt.legend()\n",
        "plt.show()"
      ]
    },
    {
      "cell_type": "code",
      "source": [
        "exclude_countries = ['United States', 'Canada']\n",
        "\n",
        "result_df = pd.DataFrame(columns=grouped_2.columns)\n",
        "grouped_2_mod = grouped_2.copy()\n",
        "grouped_2_mod.loc[grouped_2_mod.country.isin(exclude_countries), 'country_eng'] = 0\n",
        "for i, year in enumerate(years):\n",
        "  year_df = grouped_2_mod.loc[grouped_2_mod['year'] == year, :].copy()\n",
        "  year_df['country_eng'] = (year_df['country_eng'] / year_df['country_eng'].sum() * 100).round(2)\n",
        "  \n",
        "  if year_df.shape[0] > 7:\n",
        "      year_df = year_df.iloc[:7, :]\n",
        "\n",
        "  result_df = pd.concat([result_df, year_df])\n",
        "\n",
        "countries = [c for c in result_df.country.unique() if c not in exclude_countries]\n",
        "\n",
        "plt.figure(figsize=(15,10))\n",
        "for i, c in enumerate(countries):\n",
        "  country_df = result_df.loc[result_df['country'] == c, :].copy()\n",
        "  country_year_ratios = [country_df.loc[country_df['year'] == y, 'country_eng'] if not country_df.loc[country_df['year'] == y, 'country_eng'].empty else 0 for y in years]\n",
        "  plt.plot(years, country_year_ratios, label=c, color=cm((i + 2 )//NUM_STYLES*float(NUM_STYLES)/NUM_COLORS), linestyle=LINE_STYLES[(i + 2)%NUM_STYLES])\n",
        "  plt.scatter(years, country_year_ratios, color=cm((i + 2)//NUM_STYLES*float(NUM_STYLES)/NUM_COLORS))\n",
        "\n",
        "plt.title('Top 7 countries change 2013-2021 (ratio | No US & Canada)')\n",
        "plt.legend(loc=\"upper left\")\n",
        "plt.show()"
      ],
      "metadata": {
        "colab": {
          "base_uri": "https://localhost:8080/",
          "height": 607
        },
        "id": "xF-8okm9oSLz",
        "outputId": "0b2c9952-8bbe-470c-97a4-feaf20a5b41e"
      },
      "execution_count": null,
      "outputs": [
        {
          "output_type": "display_data",
          "data": {
            "image/png": "[encoded data removed]",
            "text/plain": [
              "<Figure size 1080x720 with 1 Axes>"
            ]
          },
          "metadata": {
            "needs_background": "light"
          }
        }
      ]
    },
    {
      "cell_type": "code",
      "source": [
        "countries = grouped_2.country.unique()\n",
        "result_df = pd.DataFrame(columns=['country'] + [f\"{years[j]}-{years[j + 1]}\" for j in range(len(years) - 1)])\n",
        "\n",
        "for i, c in enumerate(countries):\n",
        "  country_df = grouped_2.loc[grouped_2['country'] == c, :].copy()\n",
        "  country_year_pct_change = []\n",
        "  for j in range(len(years) - 1):\n",
        "    country_count = country_df.loc[country_df['year'] == years[j], 'country_eng']\n",
        "    next_year_country_count = country_df.loc[country_df['year'] == years[j + 1], 'country_eng']\n",
        "\n",
        "    if country_count.empty and not next_year_country_count.empty:\n",
        "      country_year_pct_change.append(100)\n",
        "      continue\n",
        "    if next_year_country_count.empty:\n",
        "      country_year_pct_change.append(0)\n",
        "      continue\n",
        "    country_year_pct_change.append(round(next_year_country_count.values[0] / country_count.values[0] * 100, 3))\n",
        "\n",
        "  to_append = pd.Series([c] + country_year_pct_change, index = result_df.columns)\n",
        "  result_df = result_df.append(to_append, ignore_index=True)"
      ],
      "metadata": {
        "id": "gP2lZwi5qSRF"
      },
      "execution_count": null,
      "outputs": []
    },
    {
      "cell_type": "code",
      "source": [
        "result_df.to_csv(r'/content/drive/MyDrive/Thesis/data/Data_all/participants_amount_pct_change_by_country_1_year.csv', index=False)"
      ],
      "metadata": {
        "id": "YJ9Ld-vt-b9g"
      },
      "execution_count": null,
      "outputs": []
    },
    {
      "cell_type": "code",
      "source": [
        "result_df"
      ],
      "metadata": {
        "colab": {
          "base_uri": "https://localhost:8080/",
          "height": 424
        },
        "id": "dnHjwkV7AKxX",
        "outputId": "79cbfda3-2587-4734-c3a8-7df718974b63"
      },
      "execution_count": null,
      "outputs": [
        {
          "output_type": "execute_result",
          "data": {
            "text/html": [
              "\n",
              "  <div id=\"df-bf1c7f63-f073-4b9f-8375-3619267bc227\">\n",
              "    <div class=\"colab-df-container\">\n",
              "      <div>\n",
              "<style scoped>\n",
              "    .dataframe tbody tr th:only-of-type {\n",
              "        vertical-align: middle;\n",
              "    }\n",
              "\n",
              "    .dataframe tbody tr th {\n",
              "        vertical-align: top;\n",
              "    }\n",
              "\n",
              "    .dataframe thead th {\n",
              "        text-align: right;\n",
              "    }\n",
              "</style>\n",
              "<table border=\"1\" class=\"dataframe\">\n",
              "  <thead>\n",
              "    <tr style=\"text-align: right;\">\n",
              "      <th></th>\n",
              "      <th>country</th>\n",
              "      <th>2013-2014</th>\n",
              "      <th>2014-2015</th>\n",
              "      <th>2015-2016</th>\n",
              "      <th>2016-2017</th>\n",
              "      <th>2017-2018</th>\n",
              "      <th>2018-2019</th>\n",
              "      <th>2019-2020</th>\n",
              "      <th>2020-2021</th>\n",
              "    </tr>\n",
              "  </thead>\n",
              "  <tbody>\n",
              "    <tr>\n",
              "      <th>0</th>\n",
              "      <td>United States</td>\n",
              "      <td>475.272</td>\n",
              "      <td>108.119</td>\n",
              "      <td>65.680</td>\n",
              "      <td>236.393</td>\n",
              "      <td>155.824</td>\n",
              "      <td>129.224</td>\n",
              "      <td>86.214</td>\n",
              "      <td>61.212</td>\n",
              "    </tr>\n",
              "    <tr>\n",
              "      <th>1</th>\n",
              "      <td>Canada</td>\n",
              "      <td>683.333</td>\n",
              "      <td>302.439</td>\n",
              "      <td>118.952</td>\n",
              "      <td>137.966</td>\n",
              "      <td>121.007</td>\n",
              "      <td>160.305</td>\n",
              "      <td>112.793</td>\n",
              "      <td>100.449</td>\n",
              "    </tr>\n",
              "    <tr>\n",
              "      <th>2</th>\n",
              "      <td>Germany</td>\n",
              "      <td>29.412</td>\n",
              "      <td>580.000</td>\n",
              "      <td>206.897</td>\n",
              "      <td>151.667</td>\n",
              "      <td>115.385</td>\n",
              "      <td>135.238</td>\n",
              "      <td>169.014</td>\n",
              "      <td>20.833</td>\n",
              "    </tr>\n",
              "    <tr>\n",
              "      <th>3</th>\n",
              "      <td>France</td>\n",
              "      <td>80.000</td>\n",
              "      <td>350.000</td>\n",
              "      <td>57.143</td>\n",
              "      <td>100.000</td>\n",
              "      <td>275.000</td>\n",
              "      <td>136.364</td>\n",
              "      <td>216.667</td>\n",
              "      <td>9.231</td>\n",
              "    </tr>\n",
              "    <tr>\n",
              "      <th>4</th>\n",
              "      <td>United Kingdom</td>\n",
              "      <td>2800.000</td>\n",
              "      <td>129.464</td>\n",
              "      <td>118.621</td>\n",
              "      <td>123.837</td>\n",
              "      <td>147.418</td>\n",
              "      <td>121.656</td>\n",
              "      <td>87.696</td>\n",
              "      <td>65.970</td>\n",
              "    </tr>\n",
              "    <tr>\n",
              "      <th>...</th>\n",
              "      <td>...</td>\n",
              "      <td>...</td>\n",
              "      <td>...</td>\n",
              "      <td>...</td>\n",
              "      <td>...</td>\n",
              "      <td>...</td>\n",
              "      <td>...</td>\n",
              "      <td>...</td>\n",
              "      <td>...</td>\n",
              "    </tr>\n",
              "    <tr>\n",
              "      <th>113</th>\n",
              "      <td>Uzbekistan</td>\n",
              "      <td>0.000</td>\n",
              "      <td>0.000</td>\n",
              "      <td>0.000</td>\n",
              "      <td>0.000</td>\n",
              "      <td>0.000</td>\n",
              "      <td>0.000</td>\n",
              "      <td>0.000</td>\n",
              "      <td>100.000</td>\n",
              "    </tr>\n",
              "    <tr>\n",
              "      <th>114</th>\n",
              "      <td>Zimbabwe</td>\n",
              "      <td>0.000</td>\n",
              "      <td>0.000</td>\n",
              "      <td>0.000</td>\n",
              "      <td>0.000</td>\n",
              "      <td>0.000</td>\n",
              "      <td>0.000</td>\n",
              "      <td>0.000</td>\n",
              "      <td>100.000</td>\n",
              "    </tr>\n",
              "    <tr>\n",
              "      <th>115</th>\n",
              "      <td>Angola</td>\n",
              "      <td>0.000</td>\n",
              "      <td>0.000</td>\n",
              "      <td>0.000</td>\n",
              "      <td>0.000</td>\n",
              "      <td>0.000</td>\n",
              "      <td>0.000</td>\n",
              "      <td>0.000</td>\n",
              "      <td>100.000</td>\n",
              "    </tr>\n",
              "    <tr>\n",
              "      <th>116</th>\n",
              "      <td>Montenegro</td>\n",
              "      <td>0.000</td>\n",
              "      <td>0.000</td>\n",
              "      <td>0.000</td>\n",
              "      <td>0.000</td>\n",
              "      <td>0.000</td>\n",
              "      <td>0.000</td>\n",
              "      <td>0.000</td>\n",
              "      <td>100.000</td>\n",
              "    </tr>\n",
              "    <tr>\n",
              "      <th>117</th>\n",
              "      <td>Trinidad and Tobago</td>\n",
              "      <td>0.000</td>\n",
              "      <td>0.000</td>\n",
              "      <td>0.000</td>\n",
              "      <td>0.000</td>\n",
              "      <td>0.000</td>\n",
              "      <td>0.000</td>\n",
              "      <td>0.000</td>\n",
              "      <td>100.000</td>\n",
              "    </tr>\n",
              "  </tbody>\n",
              "</table>\n",
              "<p>118 rows × 9 columns</p>\n",
              "</div>\n",
              "      <button class=\"colab-df-convert\" onclick=\"convertToInteractive('df-bf1c7f63-f073-4b9f-8375-3619267bc227')\"\n",
              "              title=\"Convert this dataframe to an interactive table.\"\n",
              "              style=\"display:none;\">\n",
              "        \n",
              "  <svg xmlns=\"http://www.w3.org/2000/svg\" height=\"24px\"viewBox=\"0 0 24 24\"\n",
              "       width=\"24px\">\n",
              "    <path d=\"M0 0h24v24H0V0z\" fill=\"none\"/>\n",
              "    <path d=\"M18.56 5.44l.94 2.06.94-2.06 2.06-.94-2.06-.94-.94-2.06-.94 2.06-2.06.94zm-11 1L8.5 8.5l.94-2.06 2.06-.94-2.06-.94L8.5 2.5l-.94 2.06-2.06.94zm10 10l.94 2.06.94-2.06 2.06-.94-2.06-.94-.94-2.06-.94 2.06-2.06.94z\"/><path d=\"M17.41 7.96l-1.37-1.37c-.4-.4-.92-.59-1.43-.59-.52 0-1.04.2-1.43.59L10.3 9.45l-7.72 7.72c-.78.78-.78 2.05 0 2.83L4 21.41c.39.39.9.59 1.41.59.51 0 1.02-.2 1.41-.59l7.78-7.78 2.81-2.81c.8-.78.8-2.07 0-2.86zM5.41 20L4 18.59l7.72-7.72 1.47 1.35L5.41 20z\"/>\n",
              "  </svg>\n",
              "      </button>\n",
              "      \n",
              "  <style>\n",
              "    .colab-df-container {\n",
              "      display:flex;\n",
              "      flex-wrap:wrap;\n",
              "      gap: 12px;\n",
              "    }\n",
              "\n",
              "    .colab-df-convert {\n",
              "      background-color: #E8F0FE;\n",
              "      border: none;\n",
              "      border-radius: 50%;\n",
              "      cursor: pointer;\n",
              "      display: none;\n",
              "      fill: #1967D2;\n",
              "      height: 32px;\n",
              "      padding: 0 0 0 0;\n",
              "      width: 32px;\n",
              "    }\n",
              "\n",
              "    .colab-df-convert:hover {\n",
              "      background-color: #E2EBFA;\n",
              "      box-shadow: 0px 1px 2px rgba(60, 64, 67, 0.3), 0px 1px 3px 1px rgba(60, 64, 67, 0.15);\n",
              "      fill: #174EA6;\n",
              "    }\n",
              "\n",
              "    [theme=dark] .colab-df-convert {\n",
              "      background-color: #3B4455;\n",
              "      fill: #D2E3FC;\n",
              "    }\n",
              "\n",
              "    [theme=dark] .colab-df-convert:hover {\n",
              "      background-color: #434B5C;\n",
              "      box-shadow: 0px 1px 3px 1px rgba(0, 0, 0, 0.15);\n",
              "      filter: drop-shadow(0px 1px 2px rgba(0, 0, 0, 0.3));\n",
              "      fill: #FFFFFF;\n",
              "    }\n",
              "  </style>\n",
              "\n",
              "      <script>\n",
              "        const buttonEl =\n",
              "          document.querySelector('#df-bf1c7f63-f073-4b9f-8375-3619267bc227 button.colab-df-convert');\n",
              "        buttonEl.style.display =\n",
              "          google.colab.kernel.accessAllowed ? 'block' : 'none';\n",
              "\n",
              "        async function convertToInteractive(key) {\n",
              "          const element = document.querySelector('#df-bf1c7f63-f073-4b9f-8375-3619267bc227');\n",
              "          const dataTable =\n",
              "            await google.colab.kernel.invokeFunction('convertToInteractive',\n",
              "                                                     [key], {});\n",
              "          if (!dataTable) return;\n",
              "\n",
              "          const docLinkHtml = 'Like what you see? Visit the ' +\n",
              "            '<a target=\"_blank\" href=https://colab.research.google.com/notebooks/data_table.ipynb>data table notebook</a>'\n",
              "            + ' to learn more about interactive tables.';\n",
              "          element.innerHTML = '';\n",
              "          dataTable['output_type'] = 'display_data';\n",
              "          await google.colab.output.renderOutput(dataTable, element);\n",
              "          const docLink = document.createElement('div');\n",
              "          docLink.innerHTML = docLinkHtml;\n",
              "          element.appendChild(docLink);\n",
              "        }\n",
              "      </script>\n",
              "    </div>\n",
              "  </div>\n",
              "  "
            ],
            "text/plain": [
              "                 country  2013-2014  2014-2015  ...  2018-2019  2019-2020  2020-2021\n",
              "0          United States    475.272    108.119  ...    129.224     86.214     61.212\n",
              "1                 Canada    683.333    302.439  ...    160.305    112.793    100.449\n",
              "2                Germany     29.412    580.000  ...    135.238    169.014     20.833\n",
              "3                 France     80.000    350.000  ...    136.364    216.667      9.231\n",
              "4         United Kingdom   2800.000    129.464  ...    121.656     87.696     65.970\n",
              "..                   ...        ...        ...  ...        ...        ...        ...\n",
              "113           Uzbekistan      0.000      0.000  ...      0.000      0.000    100.000\n",
              "114             Zimbabwe      0.000      0.000  ...      0.000      0.000    100.000\n",
              "115               Angola      0.000      0.000  ...      0.000      0.000    100.000\n",
              "116           Montenegro      0.000      0.000  ...      0.000      0.000    100.000\n",
              "117  Trinidad and Tobago      0.000      0.000  ...      0.000      0.000    100.000\n",
              "\n",
              "[118 rows x 9 columns]"
            ]
          },
          "metadata": {},
          "execution_count": 127
        }
      ]
    },
    {
      "cell_type": "code",
      "source": [
        ""
      ],
      "metadata": {
        "id": "9QcKPiVJAgqw"
      },
      "execution_count": null,
      "outputs": []
    }
  ],
  "metadata": {
    "colab": {
      "collapsed_sections": [],
      "name": "Data cleaning and analysis.ipynb",
      "provenance": []
    },
    "kernelspec": {
      "display_name": "Python 3",
      "name": "python3"
    },
    "language_info": {
      "name": "python"
    }
  },
  "nbformat": 4,
  "nbformat_minor": 0
}